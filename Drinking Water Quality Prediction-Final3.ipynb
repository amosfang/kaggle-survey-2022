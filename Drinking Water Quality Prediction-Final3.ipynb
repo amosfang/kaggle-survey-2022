{
 "cells": [
  {
   "cell_type": "code",
   "execution_count": 1,
   "metadata": {},
   "outputs": [],
   "source": [
    "# Import libraries\n",
    "import pandas as pd\n",
    "import numpy as np\n",
    "import re\n",
    "from math import isnan\n",
    "\n",
    "# Visualization plots\n",
    "from matplotlib import pyplot as plt\n",
    "import seaborn as sns\n",
    "\n",
    "# ML Data Preparation\n",
    "from sklearn.preprocessing import LabelEncoder # labeling of categorical target variables\n",
    "from sklearn.preprocessing import StandardScaler # scale values to standard normal distribution X~N(0,1)\n",
    "from sklearn.model_selection import train_test_split # train-test data split\n",
    "\n",
    "# ML Feature Importance Analysis\n",
    "from sklearn.decomposition import PCA\n",
    "from sklearn.model_selection import GridSearchCV\n",
    "from sklearn.ensemble import ExtraTreesClassifier\n",
    "from sklearn.feature_selection import SelectFromModel\n",
    "from sklearn.svm import LinearSVC\n",
    "from sklearn.feature_selection import SelectFromModel\n",
    "from sklearn.pipeline import Pipeline\n",
    "\n",
    "# ML Techniques\n",
    "from sklearn.ensemble import GradientBoostingClassifier\n",
    "from sklearn.linear_model import LogisticRegression\n",
    "from sklearn.ensemble import RandomForestClassifier\n",
    "\n",
    "# ML Model Evaluation\n",
    "from sklearn.metrics import roc_curve, auc\n",
    "from sklearn.metrics import accuracy_score\n",
    "from sklearn import metrics\n",
    "from sklearn.model_selection import RepeatedKFold\n",
    "from sklearn.model_selection import cross_val_score\n",
    "\n",
    "# Support Vector Machine\n",
    "from sklearn.preprocessing import PolynomialFeatures\n",
    "from sklearn.svm import SVC"
   ]
  },
  {
   "cell_type": "code",
   "execution_count": 2,
   "metadata": {},
   "outputs": [],
   "source": [
    "# Set parameters\n",
    "RAND_STATE_SEED = 16\n",
    "TEST_SIZE = 0.2"
   ]
  },
  {
   "cell_type": "code",
   "execution_count": 3,
   "metadata": {},
   "outputs": [],
   "source": [
    "df_train = pd.read_csv('train.csv')"
   ]
  },
  {
   "cell_type": "code",
   "execution_count": 4,
   "metadata": {},
   "outputs": [
    {
     "data": {
      "text/plain": [
       "0.15"
      ]
     },
     "execution_count": 4,
     "metadata": {},
     "output_type": "execute_result"
    }
   ],
   "source": [
    "df_train[df_train['compliance_2021']==1]['compliance_2021'].count()/df_train['station_id'].count()"
   ]
  },
  {
   "cell_type": "markdown",
   "metadata": {},
   "source": [
    "## 1. Data Exploration"
   ]
  },
  {
   "cell_type": "markdown",
   "metadata": {},
   "source": [
    "### 1.1 Overview"
   ]
  },
  {
   "cell_type": "code",
   "execution_count": 5,
   "metadata": {},
   "outputs": [
    {
     "data": {
      "text/plain": [
       "<matplotlib.axes._subplots.AxesSubplot at 0x7fe1f0bde190>"
      ]
     },
     "execution_count": 5,
     "metadata": {},
     "output_type": "execute_result"
    },
    {
     "data": {
      "image/png": "[encoded data removed]",
      "text/plain": [
       "<Figure size 432x288 with 2 Axes>"
      ]
     },
     "metadata": {
      "needs_background": "light"
     },
     "output_type": "display_data"
    }
   ],
   "source": [
    "# select = ['Colony-count-at-22-C_2020','Coli-like-bacteria_2020','Colony-count-at-22-C_2020'] #good combi\n",
    "select = ['Colony-count-at-22-C_2020','Coli-like-bacteria_2020','Coli-like-bacteria_2019'] \n",
    "# select = ['Colony-count-at-22-C_2020','Electrical-conductivity_2019']\n",
    "sns.heatmap(df_train[select].corr())"
   ]
  },
  {
   "cell_type": "code",
   "execution_count": 6,
   "metadata": {},
   "outputs": [
    {
     "data": {
      "text/html": [
       "<div>\n",
       "<style scoped>\n",
       "    .dataframe tbody tr th:only-of-type {\n",
       "        vertical-align: middle;\n",
       "    }\n",
       "\n",
       "    .dataframe tbody tr th {\n",
       "        vertical-align: top;\n",
       "    }\n",
       "\n",
       "    .dataframe thead th {\n",
       "        text-align: right;\n",
       "    }\n",
       "</style>\n",
       "<table border=\"1\" class=\"dataframe\">\n",
       "  <thead>\n",
       "    <tr style=\"text-align: right;\">\n",
       "      <th></th>\n",
       "      <th>station_id</th>\n",
       "      <th>Coli-like-bacteria_2020</th>\n",
       "      <th>Enterococci_2020</th>\n",
       "    </tr>\n",
       "  </thead>\n",
       "  <tbody>\n",
       "    <tr>\n",
       "      <th>2</th>\n",
       "      <td>205</td>\n",
       "      <td>0.0</td>\n",
       "      <td>0.0</td>\n",
       "    </tr>\n",
       "    <tr>\n",
       "      <th>11</th>\n",
       "      <td>1417</td>\n",
       "      <td>0.0</td>\n",
       "      <td>0.0</td>\n",
       "    </tr>\n",
       "    <tr>\n",
       "      <th>12</th>\n",
       "      <td>169</td>\n",
       "      <td>0.0</td>\n",
       "      <td>0.0</td>\n",
       "    </tr>\n",
       "    <tr>\n",
       "      <th>43</th>\n",
       "      <td>1074</td>\n",
       "      <td>0.0</td>\n",
       "      <td>0.0</td>\n",
       "    </tr>\n",
       "    <tr>\n",
       "      <th>46</th>\n",
       "      <td>444</td>\n",
       "      <td>0.0</td>\n",
       "      <td>0.0</td>\n",
       "    </tr>\n",
       "    <tr>\n",
       "      <th>...</th>\n",
       "      <td>...</td>\n",
       "      <td>...</td>\n",
       "      <td>...</td>\n",
       "    </tr>\n",
       "    <tr>\n",
       "      <th>416</th>\n",
       "      <td>172</td>\n",
       "      <td>2.0</td>\n",
       "      <td>0.0</td>\n",
       "    </tr>\n",
       "    <tr>\n",
       "      <th>417</th>\n",
       "      <td>769</td>\n",
       "      <td>4.0</td>\n",
       "      <td>0.0</td>\n",
       "    </tr>\n",
       "    <tr>\n",
       "      <th>418</th>\n",
       "      <td>382</td>\n",
       "      <td>0.0</td>\n",
       "      <td>0.0</td>\n",
       "    </tr>\n",
       "    <tr>\n",
       "      <th>421</th>\n",
       "      <td>566</td>\n",
       "      <td>0.0</td>\n",
       "      <td>0.0</td>\n",
       "    </tr>\n",
       "    <tr>\n",
       "      <th>439</th>\n",
       "      <td>725</td>\n",
       "      <td>0.0</td>\n",
       "      <td>0.0</td>\n",
       "    </tr>\n",
       "  </tbody>\n",
       "</table>\n",
       "<p>120 rows × 3 columns</p>\n",
       "</div>"
      ],
      "text/plain": [
       "     station_id  Coli-like-bacteria_2020  Enterococci_2020\n",
       "2           205                      0.0               0.0\n",
       "11         1417                      0.0               0.0\n",
       "12          169                      0.0               0.0\n",
       "43         1074                      0.0               0.0\n",
       "46          444                      0.0               0.0\n",
       "..          ...                      ...               ...\n",
       "416         172                      2.0               0.0\n",
       "417         769                      4.0               0.0\n",
       "418         382                      0.0               0.0\n",
       "421         566                      0.0               0.0\n",
       "439         725                      0.0               0.0\n",
       "\n",
       "[120 rows x 3 columns]"
      ]
     },
     "execution_count": 6,
     "metadata": {},
     "output_type": "execute_result"
    }
   ],
   "source": [
    "con_filter = ~df_train['Coli-like-bacteria_2020'].isna() & ~df_train['Enterococci_2020'].isna()\n",
    "df_train[['station_id','Coli-like-bacteria_2020','Enterococci_2020']][con_filter]"
   ]
  },
  {
   "cell_type": "markdown",
   "metadata": {},
   "source": [
    "### 1.2 Data Analysis"
   ]
  },
  {
   "cell_type": "markdown",
   "metadata": {},
   "source": [
    "The features Manganese_2019, Coli-like-bacteria_2020, Coli-like-bacteria-Colilert_2020, Coli-like-bacteria_2019 and\n",
    "compliance_2020 demonstrate the largest %change for a 0-1 compliance_2021 split.\n",
    "\n",
    "These mentioned features could have importance in model building."
   ]
  },
  {
   "cell_type": "code",
   "execution_count": 7,
   "metadata": {},
   "outputs": [
    {
     "data": {
      "text/html": [
       "<div>\n",
       "<style scoped>\n",
       "    .dataframe tbody tr th:only-of-type {\n",
       "        vertical-align: middle;\n",
       "    }\n",
       "\n",
       "    .dataframe tbody tr th {\n",
       "        vertical-align: top;\n",
       "    }\n",
       "\n",
       "    .dataframe thead th {\n",
       "        text-align: right;\n",
       "    }\n",
       "</style>\n",
       "<table border=\"1\" class=\"dataframe\">\n",
       "  <thead>\n",
       "    <tr style=\"text-align: right;\">\n",
       "      <th>compliance_2021</th>\n",
       "      <th>0</th>\n",
       "      <th>1</th>\n",
       "      <th>% abs diff</th>\n",
       "    </tr>\n",
       "  </thead>\n",
       "  <tbody>\n",
       "    <tr>\n",
       "      <th>Manganese_2019</th>\n",
       "      <td>28.605680</td>\n",
       "      <td>204.417021</td>\n",
       "      <td>286.962630</td>\n",
       "    </tr>\n",
       "    <tr>\n",
       "      <th>Coli-like-bacteria_2020</th>\n",
       "      <td>0.300353</td>\n",
       "      <td>1.432432</td>\n",
       "      <td>262.511090</td>\n",
       "    </tr>\n",
       "    <tr>\n",
       "      <th>Coli-like-bacteria-Colilert_2020</th>\n",
       "      <td>0.868750</td>\n",
       "      <td>2.758621</td>\n",
       "      <td>144.573951</td>\n",
       "    </tr>\n",
       "    <tr>\n",
       "      <th>Coli-like-bacteria_2019</th>\n",
       "      <td>1.118705</td>\n",
       "      <td>3.045455</td>\n",
       "      <td>139.418729</td>\n",
       "    </tr>\n",
       "    <tr>\n",
       "      <th>compliance_2020</th>\n",
       "      <td>0.160428</td>\n",
       "      <td>0.424242</td>\n",
       "      <td>131.907308</td>\n",
       "    </tr>\n",
       "    <tr>\n",
       "      <th>Escherichia-coli-Colilert_2020</th>\n",
       "      <td>0.021053</td>\n",
       "      <td>0.000000</td>\n",
       "      <td>130.526316</td>\n",
       "    </tr>\n",
       "    <tr>\n",
       "      <th>Colony-count-at-22-C_2020</th>\n",
       "      <td>30.975904</td>\n",
       "      <td>80.490909</td>\n",
       "      <td>130.258359</td>\n",
       "    </tr>\n",
       "    <tr>\n",
       "      <th>Enterococci_2020</th>\n",
       "      <td>0.022059</td>\n",
       "      <td>0.000000</td>\n",
       "      <td>127.205882</td>\n",
       "    </tr>\n",
       "    <tr>\n",
       "      <th>Escherichia-coli-Colilert_2019</th>\n",
       "      <td>0.522449</td>\n",
       "      <td>0.000000</td>\n",
       "      <td>126.530612</td>\n",
       "    </tr>\n",
       "    <tr>\n",
       "      <th>Smell-ball-units_2019</th>\n",
       "      <td>0.367816</td>\n",
       "      <td>0.875000</td>\n",
       "      <td>123.544798</td>\n",
       "    </tr>\n",
       "  </tbody>\n",
       "</table>\n",
       "</div>"
      ],
      "text/plain": [
       "compliance_2021                           0           1  % abs diff\n",
       "Manganese_2019                    28.605680  204.417021  286.962630\n",
       "Coli-like-bacteria_2020            0.300353    1.432432  262.511090\n",
       "Coli-like-bacteria-Colilert_2020   0.868750    2.758621  144.573951\n",
       "Coli-like-bacteria_2019            1.118705    3.045455  139.418729\n",
       "compliance_2020                    0.160428    0.424242  131.907308\n",
       "Escherichia-coli-Colilert_2020     0.021053    0.000000  130.526316\n",
       "Colony-count-at-22-C_2020         30.975904   80.490909  130.258359\n",
       "Enterococci_2020                   0.022059    0.000000  127.205882\n",
       "Escherichia-coli-Colilert_2019     0.522449    0.000000  126.530612\n",
       "Smell-ball-units_2019              0.367816    0.875000  123.544798"
      ]
     },
     "execution_count": 7,
     "metadata": {},
     "output_type": "execute_result"
    }
   ],
   "source": [
    "# To screen columns by year\n",
    "# df_ex = df_train.loc[:,~df_train.columns.str.match(r'(.*?)\\_2019')].groupby(['compliance_2021']).mean().T\n",
    "# df_ex['% diff'] = abs(df_ex[1]-df_ex[0])*100/df_train.loc[:,~df_train.columns.str.match(r'(.*?)\\_2019')].mean().T\n",
    "\n",
    "df_ex = df_train.groupby(['compliance_2021']).mean().T\n",
    "df_ex['% abs diff'] = abs(df_ex[1]-df_ex[0])*100/df_train.mean().T\n",
    "\n",
    "df_ex.sort_values(by = '% abs diff',ascending = False).head(10)"
   ]
  },
  {
   "cell_type": "code",
   "execution_count": 8,
   "metadata": {},
   "outputs": [
    {
     "data": {
      "text/html": [
       "<div>\n",
       "<style scoped>\n",
       "    .dataframe tbody tr th:only-of-type {\n",
       "        vertical-align: middle;\n",
       "    }\n",
       "\n",
       "    .dataframe tbody tr th {\n",
       "        vertical-align: top;\n",
       "    }\n",
       "\n",
       "    .dataframe thead th {\n",
       "        text-align: right;\n",
       "    }\n",
       "</style>\n",
       "<table border=\"1\" class=\"dataframe\">\n",
       "  <thead>\n",
       "    <tr style=\"text-align: right;\">\n",
       "      <th></th>\n",
       "      <th>Count of NaN</th>\n",
       "    </tr>\n",
       "  </thead>\n",
       "  <tbody>\n",
       "    <tr>\n",
       "      <th>Color-Pt-Co-unit_2019</th>\n",
       "      <td>381</td>\n",
       "    </tr>\n",
       "    <tr>\n",
       "      <th>Color-Pt-Co-unit_2020</th>\n",
       "      <td>377</td>\n",
       "    </tr>\n",
       "    <tr>\n",
       "      <th>Aluminium_2020</th>\n",
       "      <td>346</td>\n",
       "    </tr>\n",
       "    <tr>\n",
       "      <th>Taste-ball-units_2019</th>\n",
       "      <td>346</td>\n",
       "    </tr>\n",
       "    <tr>\n",
       "      <th>Smell-ball-units_2019</th>\n",
       "      <td>345</td>\n",
       "    </tr>\n",
       "  </tbody>\n",
       "</table>\n",
       "</div>"
      ],
      "text/plain": [
       "                       Count of NaN\n",
       "Color-Pt-Co-unit_2019           381\n",
       "Color-Pt-Co-unit_2020           377\n",
       "Aluminium_2020                  346\n",
       "Taste-ball-units_2019           346\n",
       "Smell-ball-units_2019           345"
      ]
     },
     "execution_count": 8,
     "metadata": {},
     "output_type": "execute_result"
    }
   ],
   "source": [
    "# Count of NaN in the original dataset\n",
    "pd.DataFrame(df_train.isna().sum(),columns=['Count of NaN']).sort_values(by = 'Count of NaN',ascending = False).head()"
   ]
  },
  {
   "cell_type": "markdown",
   "metadata": {},
   "source": [
    "## 2. Data Preprocessing"
   ]
  },
  {
   "cell_type": "code",
   "execution_count": 9,
   "metadata": {},
   "outputs": [],
   "source": [
    "y = df_train['compliance_2021'] # Target variable\n",
    "df_train = df_train.drop('compliance_2021',axis=1)"
   ]
  },
  {
   "cell_type": "code",
   "execution_count": 10,
   "metadata": {},
   "outputs": [],
   "source": [
    "X = df_train.drop(['station_id'],axis=1)\n",
    "station_id = df_train['station_id']"
   ]
  },
  {
   "cell_type": "markdown",
   "metadata": {},
   "source": [
    "### 2.1 Transform the dataset\n",
    "\n",
    "* Group related features and pair the readings into a list, for example [NaN,NaN]\n",
    "* Remove the duplicated feature\n",
    "* Remove the suffix _YYYY from the name of each feature"
   ]
  },
  {
   "cell_type": "code",
   "execution_count": 11,
   "metadata": {},
   "outputs": [],
   "source": [
    "col_names = X.columns # store original column names"
   ]
  },
  {
   "cell_type": "code",
   "execution_count": 12,
   "metadata": {},
   "outputs": [],
   "source": [
    "grouped = X.groupby(lambda col: col[:-5], axis=1) # remove all '_2019' and '_2020' suffixes\n",
    "\n",
    "X = grouped.transform(lambda x: x.values.tolist())\n",
    "X = X.loc[:,~X.columns.str.match(r'(.*?)\\_2020')]\n",
    "X = X.rename(columns=lambda x: re.sub(r'\\_2019', '', x))"
   ]
  },
  {
   "cell_type": "markdown",
   "metadata": {},
   "source": [
    "### 2.2 Manual Data Impute\n",
    "\n",
    "* Impute NaN with value from either the trailing (2019) or forward year (2020). \n",
    "* If both values are NaN, leave it.\n",
    "* Implement method as a function"
   ]
  },
  {
   "cell_type": "code",
   "execution_count": 13,
   "metadata": {},
   "outputs": [],
   "source": [
    "def replace_nan(x):\n",
    "    if len(x)==2 and isinstance(x, list) and isnan(x[0])+isnan(x[1])==1:\n",
    "        nn_0 = 0 if isnan(x[0]) else x[0]\n",
    "        nn_1 = 0 if isnan(x[1]) else x[1]\n",
    "        x[0] = nn_0 + nn_1\n",
    "        x[1] = nn_0 + nn_1\n",
    "    return x\n",
    "\n",
    "X = X.applymap(replace_nan)"
   ]
  },
  {
   "cell_type": "code",
   "execution_count": 14,
   "metadata": {},
   "outputs": [],
   "source": [
    "X = pd.concat([X.iloc[:,i].apply(pd.Series) for i in range(X.shape[1])],axis=1)\n",
    "X.columns = col_names"
   ]
  },
  {
   "cell_type": "code",
   "execution_count": 15,
   "metadata": {
    "scrolled": true
   },
   "outputs": [
    {
     "data": {
      "text/html": [
       "<div>\n",
       "<style scoped>\n",
       "    .dataframe tbody tr th:only-of-type {\n",
       "        vertical-align: middle;\n",
       "    }\n",
       "\n",
       "    .dataframe tbody tr th {\n",
       "        vertical-align: top;\n",
       "    }\n",
       "\n",
       "    .dataframe thead th {\n",
       "        text-align: right;\n",
       "    }\n",
       "</style>\n",
       "<table border=\"1\" class=\"dataframe\">\n",
       "  <thead>\n",
       "    <tr style=\"text-align: right;\">\n",
       "      <th></th>\n",
       "      <th>Count of NaN</th>\n",
       "    </tr>\n",
       "  </thead>\n",
       "  <tbody>\n",
       "    <tr>\n",
       "      <th>Color-Pt-Co-unit_2019</th>\n",
       "      <td>371</td>\n",
       "    </tr>\n",
       "    <tr>\n",
       "      <th>Color-Pt-Co-unit_2020</th>\n",
       "      <td>371</td>\n",
       "    </tr>\n",
       "    <tr>\n",
       "      <th>Taste-ball-units_2019</th>\n",
       "      <td>332</td>\n",
       "    </tr>\n",
       "    <tr>\n",
       "      <th>Taste-ball-units_2020</th>\n",
       "      <td>332</td>\n",
       "    </tr>\n",
       "    <tr>\n",
       "      <th>Smell-ball-units_2020</th>\n",
       "      <td>330</td>\n",
       "    </tr>\n",
       "  </tbody>\n",
       "</table>\n",
       "</div>"
      ],
      "text/plain": [
       "                       Count of NaN\n",
       "Color-Pt-Co-unit_2019           371\n",
       "Color-Pt-Co-unit_2020           371\n",
       "Taste-ball-units_2019           332\n",
       "Taste-ball-units_2020           332\n",
       "Smell-ball-units_2020           330"
      ]
     },
     "execution_count": 15,
     "metadata": {},
     "output_type": "execute_result"
    }
   ],
   "source": [
    "# Count of NaN after first round of manual data impute\n",
    "pd.DataFrame(X.isna().sum(),columns=['Count of NaN']).sort_values(by = 'Count of NaN',ascending = False).head()"
   ]
  },
  {
   "cell_type": "code",
   "execution_count": 16,
   "metadata": {},
   "outputs": [
    {
     "data": {
      "text/html": [
       "<div>\n",
       "<style scoped>\n",
       "    .dataframe tbody tr th:only-of-type {\n",
       "        vertical-align: middle;\n",
       "    }\n",
       "\n",
       "    .dataframe tbody tr th {\n",
       "        vertical-align: top;\n",
       "    }\n",
       "\n",
       "    .dataframe thead th {\n",
       "        text-align: right;\n",
       "    }\n",
       "</style>\n",
       "<table border=\"1\" class=\"dataframe\">\n",
       "  <thead>\n",
       "    <tr style=\"text-align: right;\">\n",
       "      <th>compliance_2021</th>\n",
       "      <th>0</th>\n",
       "      <th>1</th>\n",
       "      <th>abs diff</th>\n",
       "    </tr>\n",
       "  </thead>\n",
       "  <tbody>\n",
       "    <tr>\n",
       "      <th>Manganese_2019</th>\n",
       "      <td>39.026492</td>\n",
       "      <td>172.312069</td>\n",
       "      <td>133.285577</td>\n",
       "    </tr>\n",
       "    <tr>\n",
       "      <th>Iron_2020</th>\n",
       "      <td>104.872694</td>\n",
       "      <td>163.384127</td>\n",
       "      <td>58.511433</td>\n",
       "    </tr>\n",
       "    <tr>\n",
       "      <th>Iron_2019</th>\n",
       "      <td>131.005931</td>\n",
       "      <td>187.400159</td>\n",
       "      <td>56.394228</td>\n",
       "    </tr>\n",
       "    <tr>\n",
       "      <th>Colony-count-at-22-C_2020</th>\n",
       "      <td>30.507082</td>\n",
       "      <td>79.967213</td>\n",
       "      <td>49.460131</td>\n",
       "    </tr>\n",
       "    <tr>\n",
       "      <th>Manganese_2020</th>\n",
       "      <td>32.345565</td>\n",
       "      <td>68.631034</td>\n",
       "      <td>36.285470</td>\n",
       "    </tr>\n",
       "    <tr>\n",
       "      <th>Chloride_2020</th>\n",
       "      <td>51.160584</td>\n",
       "      <td>81.762162</td>\n",
       "      <td>30.601578</td>\n",
       "    </tr>\n",
       "    <tr>\n",
       "      <th>Electrical-conductivity_2019</th>\n",
       "      <td>548.506417</td>\n",
       "      <td>578.030303</td>\n",
       "      <td>29.523886</td>\n",
       "    </tr>\n",
       "    <tr>\n",
       "      <th>Colony-count-at-22-C_2019</th>\n",
       "      <td>34.101983</td>\n",
       "      <td>60.442623</td>\n",
       "      <td>26.340640</td>\n",
       "    </tr>\n",
       "    <tr>\n",
       "      <th>Chloride_2019</th>\n",
       "      <td>55.806569</td>\n",
       "      <td>77.808108</td>\n",
       "      <td>22.001539</td>\n",
       "    </tr>\n",
       "    <tr>\n",
       "      <th>Coli-like-bacteria-Colilert_2019</th>\n",
       "      <td>22.714545</td>\n",
       "      <td>2.848485</td>\n",
       "      <td>19.866061</td>\n",
       "    </tr>\n",
       "  </tbody>\n",
       "</table>\n",
       "</div>"
      ],
      "text/plain": [
       "compliance_2021                            0           1    abs diff\n",
       "Manganese_2019                     39.026492  172.312069  133.285577\n",
       "Iron_2020                         104.872694  163.384127   58.511433\n",
       "Iron_2019                         131.005931  187.400159   56.394228\n",
       "Colony-count-at-22-C_2020          30.507082   79.967213   49.460131\n",
       "Manganese_2020                     32.345565   68.631034   36.285470\n",
       "Chloride_2020                      51.160584   81.762162   30.601578\n",
       "Electrical-conductivity_2019      548.506417  578.030303   29.523886\n",
       "Colony-count-at-22-C_2019          34.101983   60.442623   26.340640\n",
       "Chloride_2019                      55.806569   77.808108   22.001539\n",
       "Coli-like-bacteria-Colilert_2019   22.714545    2.848485   19.866061"
      ]
     },
     "execution_count": 16,
     "metadata": {},
     "output_type": "execute_result"
    }
   ],
   "source": [
    "df_m = pd.concat([X.loc[:,X.columns != 'station_id'],y],axis=1).groupby(['compliance_2021']).mean().T\n",
    "df_m['abs diff'] = abs(df_m[1]-df_m[0])\n",
    "\n",
    "df_m.sort_values(by = 'abs diff',ascending = False).head(10)"
   ]
  },
  {
   "cell_type": "markdown",
   "metadata": {},
   "source": [
    "### 2.3 Standard Scaling and impute Missing Values with 0"
   ]
  },
  {
   "cell_type": "code",
   "execution_count": 17,
   "metadata": {},
   "outputs": [],
   "source": [
    "scale= StandardScaler()\n",
    "# standardization of dependent variables\n",
    "X.iloc[:,:-2] = scale.fit_transform(X.iloc[:,:-2])"
   ]
  },
  {
   "cell_type": "code",
   "execution_count": 18,
   "metadata": {},
   "outputs": [],
   "source": [
    "X = X.fillna(0) #fill missing readings with 0 , after standard scaling is equivalent to filling with avg value"
   ]
  },
  {
   "cell_type": "markdown",
   "metadata": {},
   "source": [
    "### 2.4 Feature Engineering"
   ]
  },
  {
   "cell_type": "code",
   "execution_count": 19,
   "metadata": {},
   "outputs": [],
   "source": [
    "X_fe = X.iloc[:,:-2]\n",
    "grouped = X_fe.groupby(lambda col: col[:-5], axis=1) # remove all '_2019' and '_2020' suffixes\n",
    "\n",
    "X_fe = grouped.transform(lambda x: x.values.tolist())\n",
    "X_fe = X_fe.loc[:,~X_fe.columns.str.match(r'(.*?)\\_2020')]\n",
    "X_fe = X_fe.rename(columns=lambda x: re.sub(r'\\_2019', '', x))"
   ]
  },
  {
   "cell_type": "code",
   "execution_count": 20,
   "metadata": {},
   "outputs": [],
   "source": [
    "# Another feature engineering option - to find yoy change of measurement\n",
    "def find_chng_yoy(x):\n",
    "    if isinstance(x, list):\n",
    "        try:\n",
    "            return x[1] - x[0]\n",
    "        except:\n",
    "            return 0\n",
    "        \n",
    "# X_fe1 = X_fe.applymap(np.mean)\n",
    "X_fe1 = X_fe.applymap(find_chng_yoy)\n",
    "X = pd.concat([X_fe1,X.iloc[:,-2:]],axis=1)"
   ]
  },
  {
   "cell_type": "code",
   "execution_count": 21,
   "metadata": {},
   "outputs": [],
   "source": [
    "# X_fe2 = X_fe.applymap(find_pct_chng_yoy)\n",
    "# X_fe2.columns = X.columns[:-2] + ['_chng']*X_fe2.shape[1]\n",
    "# X = pd.concat([X_fe2,X],axis=1)"
   ]
  },
  {
   "cell_type": "code",
   "execution_count": 22,
   "metadata": {
    "scrolled": true
   },
   "outputs": [],
   "source": [
    "# create dummy variables\n",
    "X = pd.get_dummies(X, columns = ['compliance_2019','compliance_2020'])"
   ]
  },
  {
   "cell_type": "code",
   "execution_count": 25,
   "metadata": {},
   "outputs": [
    {
     "data": {
      "text/html": [
       "<div>\n",
       "<style scoped>\n",
       "    .dataframe tbody tr th:only-of-type {\n",
       "        vertical-align: middle;\n",
       "    }\n",
       "\n",
       "    .dataframe tbody tr th {\n",
       "        vertical-align: top;\n",
       "    }\n",
       "\n",
       "    .dataframe thead th {\n",
       "        text-align: right;\n",
       "    }\n",
       "</style>\n",
       "<table border=\"1\" class=\"dataframe\">\n",
       "  <thead>\n",
       "    <tr style=\"text-align: right;\">\n",
       "      <th>compliance_2021</th>\n",
       "      <th>0</th>\n",
       "      <th>1</th>\n",
       "      <th>abs diff</th>\n",
       "    </tr>\n",
       "  </thead>\n",
       "  <tbody>\n",
       "    <tr>\n",
       "      <th>Colony-count-at-22-C</th>\n",
       "      <td>-0.044270</td>\n",
       "      <td>0.250861</td>\n",
       "      <td>0.295131</td>\n",
       "    </tr>\n",
       "    <tr>\n",
       "      <th>compliance_2020_1</th>\n",
       "      <td>0.160428</td>\n",
       "      <td>0.424242</td>\n",
       "      <td>0.263815</td>\n",
       "    </tr>\n",
       "    <tr>\n",
       "      <th>compliance_2020_0</th>\n",
       "      <td>0.839572</td>\n",
       "      <td>0.575758</td>\n",
       "      <td>0.263815</td>\n",
       "    </tr>\n",
       "    <tr>\n",
       "      <th>Coli-like-bacteria-Colilert</th>\n",
       "      <td>-0.037606</td>\n",
       "      <td>0.213103</td>\n",
       "      <td>0.250709</td>\n",
       "    </tr>\n",
       "    <tr>\n",
       "      <th>Taste-dilution-degree</th>\n",
       "      <td>-0.032015</td>\n",
       "      <td>0.181421</td>\n",
       "      <td>0.213436</td>\n",
       "    </tr>\n",
       "    <tr>\n",
       "      <th>compliance_2019_1</th>\n",
       "      <td>0.165775</td>\n",
       "      <td>0.378788</td>\n",
       "      <td>0.213012</td>\n",
       "    </tr>\n",
       "    <tr>\n",
       "      <th>compliance_2019_0</th>\n",
       "      <td>0.834225</td>\n",
       "      <td>0.621212</td>\n",
       "      <td>0.213012</td>\n",
       "    </tr>\n",
       "    <tr>\n",
       "      <th>Ammonium</th>\n",
       "      <td>-0.027252</td>\n",
       "      <td>0.154427</td>\n",
       "      <td>0.181679</td>\n",
       "    </tr>\n",
       "    <tr>\n",
       "      <th>Odour-dilution-level</th>\n",
       "      <td>-0.017456</td>\n",
       "      <td>0.098915</td>\n",
       "      <td>0.116370</td>\n",
       "    </tr>\n",
       "    <tr>\n",
       "      <th>pH</th>\n",
       "      <td>-0.016027</td>\n",
       "      <td>0.090818</td>\n",
       "      <td>0.106845</td>\n",
       "    </tr>\n",
       "    <tr>\n",
       "      <th>Escherichia-coli</th>\n",
       "      <td>-0.011757</td>\n",
       "      <td>0.066620</td>\n",
       "      <td>0.078377</td>\n",
       "    </tr>\n",
       "    <tr>\n",
       "      <th>Aluminium</th>\n",
       "      <td>-0.011646</td>\n",
       "      <td>0.065997</td>\n",
       "      <td>0.077643</td>\n",
       "    </tr>\n",
       "    <tr>\n",
       "      <th>Iron</th>\n",
       "      <td>-0.011055</td>\n",
       "      <td>0.062646</td>\n",
       "      <td>0.073701</td>\n",
       "    </tr>\n",
       "    <tr>\n",
       "      <th>Chloride</th>\n",
       "      <td>-0.009629</td>\n",
       "      <td>0.054566</td>\n",
       "      <td>0.064195</td>\n",
       "    </tr>\n",
       "    <tr>\n",
       "      <th>Boron</th>\n",
       "      <td>0.009343</td>\n",
       "      <td>-0.052944</td>\n",
       "      <td>0.062287</td>\n",
       "    </tr>\n",
       "    <tr>\n",
       "      <th>Electrical-conductivity</th>\n",
       "      <td>0.007756</td>\n",
       "      <td>-0.043953</td>\n",
       "      <td>0.051709</td>\n",
       "    </tr>\n",
       "    <tr>\n",
       "      <th>Color-Pt-Co-unit</th>\n",
       "      <td>-0.006587</td>\n",
       "      <td>0.037326</td>\n",
       "      <td>0.043912</td>\n",
       "    </tr>\n",
       "    <tr>\n",
       "      <th>Sodium</th>\n",
       "      <td>0.006578</td>\n",
       "      <td>-0.037273</td>\n",
       "      <td>0.043850</td>\n",
       "    </tr>\n",
       "    <tr>\n",
       "      <th>Oxidability</th>\n",
       "      <td>0.006451</td>\n",
       "      <td>-0.036558</td>\n",
       "      <td>0.043009</td>\n",
       "    </tr>\n",
       "    <tr>\n",
       "      <th>Fluoride</th>\n",
       "      <td>0.004219</td>\n",
       "      <td>-0.023907</td>\n",
       "      <td>0.028126</td>\n",
       "    </tr>\n",
       "    <tr>\n",
       "      <th>Color-Pt/Co-scale</th>\n",
       "      <td>-0.003714</td>\n",
       "      <td>0.021044</td>\n",
       "      <td>0.024758</td>\n",
       "    </tr>\n",
       "    <tr>\n",
       "      <th>Enterococci</th>\n",
       "      <td>0.003612</td>\n",
       "      <td>-0.020468</td>\n",
       "      <td>0.024080</td>\n",
       "    </tr>\n",
       "    <tr>\n",
       "      <th>Nitrite</th>\n",
       "      <td>0.003017</td>\n",
       "      <td>-0.017096</td>\n",
       "      <td>0.020113</td>\n",
       "    </tr>\n",
       "    <tr>\n",
       "      <th>Manganese</th>\n",
       "      <td>0.002795</td>\n",
       "      <td>-0.015837</td>\n",
       "      <td>0.018632</td>\n",
       "    </tr>\n",
       "    <tr>\n",
       "      <th>Smell-ball-units</th>\n",
       "      <td>-0.002738</td>\n",
       "      <td>0.015516</td>\n",
       "      <td>0.018254</td>\n",
       "    </tr>\n",
       "    <tr>\n",
       "      <th>Taste-ball-units</th>\n",
       "      <td>-0.002255</td>\n",
       "      <td>0.012779</td>\n",
       "      <td>0.015034</td>\n",
       "    </tr>\n",
       "    <tr>\n",
       "      <th>Coli-like-bacteria</th>\n",
       "      <td>-0.001221</td>\n",
       "      <td>0.006917</td>\n",
       "      <td>0.008138</td>\n",
       "    </tr>\n",
       "    <tr>\n",
       "      <th>Turbidity-NTU</th>\n",
       "      <td>0.001037</td>\n",
       "      <td>-0.005876</td>\n",
       "      <td>0.006913</td>\n",
       "    </tr>\n",
       "    <tr>\n",
       "      <th>Nitrate</th>\n",
       "      <td>-0.000776</td>\n",
       "      <td>0.004399</td>\n",
       "      <td>0.005175</td>\n",
       "    </tr>\n",
       "    <tr>\n",
       "      <th>Sulphate</th>\n",
       "      <td>0.000507</td>\n",
       "      <td>-0.002872</td>\n",
       "      <td>0.003379</td>\n",
       "    </tr>\n",
       "  </tbody>\n",
       "</table>\n",
       "</div>"
      ],
      "text/plain": [
       "compliance_2021                     0         1  abs diff\n",
       "Colony-count-at-22-C        -0.044270  0.250861  0.295131\n",
       "compliance_2020_1            0.160428  0.424242  0.263815\n",
       "compliance_2020_0            0.839572  0.575758  0.263815\n",
       "Coli-like-bacteria-Colilert -0.037606  0.213103  0.250709\n",
       "Taste-dilution-degree       -0.032015  0.181421  0.213436\n",
       "compliance_2019_1            0.165775  0.378788  0.213012\n",
       "compliance_2019_0            0.834225  0.621212  0.213012\n",
       "Ammonium                    -0.027252  0.154427  0.181679\n",
       "Odour-dilution-level        -0.017456  0.098915  0.116370\n",
       "pH                          -0.016027  0.090818  0.106845\n",
       "Escherichia-coli            -0.011757  0.066620  0.078377\n",
       "Aluminium                   -0.011646  0.065997  0.077643\n",
       "Iron                        -0.011055  0.062646  0.073701\n",
       "Chloride                    -0.009629  0.054566  0.064195\n",
       "Boron                        0.009343 -0.052944  0.062287\n",
       "Electrical-conductivity      0.007756 -0.043953  0.051709\n",
       "Color-Pt-Co-unit            -0.006587  0.037326  0.043912\n",
       "Sodium                       0.006578 -0.037273  0.043850\n",
       "Oxidability                  0.006451 -0.036558  0.043009\n",
       "Fluoride                     0.004219 -0.023907  0.028126\n",
       "Color-Pt/Co-scale           -0.003714  0.021044  0.024758\n",
       "Enterococci                  0.003612 -0.020468  0.024080\n",
       "Nitrite                      0.003017 -0.017096  0.020113\n",
       "Manganese                    0.002795 -0.015837  0.018632\n",
       "Smell-ball-units            -0.002738  0.015516  0.018254\n",
       "Taste-ball-units            -0.002255  0.012779  0.015034\n",
       "Coli-like-bacteria          -0.001221  0.006917  0.008138\n",
       "Turbidity-NTU                0.001037 -0.005876  0.006913\n",
       "Nitrate                     -0.000776  0.004399  0.005175\n",
       "Sulphate                     0.000507 -0.002872  0.003379"
      ]
     },
     "execution_count": 25,
     "metadata": {},
     "output_type": "execute_result"
    }
   ],
   "source": [
    "df_m = pd.concat([X.loc[:,X.columns != 'station_id'],y],axis=1).groupby(['compliance_2021']).mean().T\n",
    "df_m['abs diff'] = abs(df_m[1]-df_m[0])\n",
    "\n",
    "df_m.sort_values(by = 'abs diff',ascending = False).head(30)"
   ]
  },
  {
   "cell_type": "markdown",
   "metadata": {},
   "source": [
    "### 2.5 Box plot and ANOVA"
   ]
  },
  {
   "cell_type": "code",
   "execution_count": null,
   "metadata": {},
   "outputs": [],
   "source": [
    "X.describe().T"
   ]
  },
  {
   "cell_type": "code",
   "execution_count": null,
   "metadata": {},
   "outputs": [],
   "source": [
    "fig, axs = plt.subplots(nrows=2, ncols=2, figsize=(9, 4), sharex=True, sharey=False)\n",
    "    \n",
    "for i in range(2):\n",
    "    for j in range(2):\n",
    "        axs[i,j].boxplot(X.iloc[:,i*2+j],\n",
    "                    vert=True,  # vertical box alignment\n",
    "                    patch_artist=True)  # will be used to label x-ticks\n",
    "        axs[i,j].yaxis.grid(True)\n",
    "        axs[i,j].set_title(X.columns[i*2+j])\n",
    "\n",
    "for ax in axs.flat:\n",
    "    ax.set(xlabel= 'feature', ylabel= 'Value')\n",
    "\n",
    "plt.show()"
   ]
  },
  {
   "cell_type": "markdown",
   "metadata": {},
   "source": [
    "## 3. Analysis - Feature Selection"
   ]
  },
  {
   "cell_type": "markdown",
   "metadata": {},
   "source": [
    "### Feature Selection Combination 1 - Gradient Boosting Classifier"
   ]
  },
  {
   "cell_type": "code",
   "execution_count": null,
   "metadata": {},
   "outputs": [],
   "source": [
    "# # Feature bucket 1 - Inorganic components\n",
    "selectB1 = ['Aluminium','Ammonium','Boron','Chloride','Fluoride','Iron','Manganese',\n",
    "           'Nitrate','Nitrite','Sodium','Sulphate']\n",
    "# selectB1 = ['Aluminium','Ammonium','Boron','Iron','Manganese',\n",
    "#            'Nitrate','Nitrite','Sodium','Sulphate']\n",
    "# # Feature bucket 2 - Microbe components\n",
    "# selectB2 = ['Coli-like-bacteria-Colilert','Coli-like-bacteria','Colony-count-at-22-C']\n",
    "\n",
    "# # Feature bucket 3 - Qualitative Analysis - Instrument measurements\n",
    "# selectB3 = ['Color-Pt-Co-unit','Color-Pt/Co-scale','Electrical-conductivity','Odour-dilution-level',\n",
    "#           'Oxidability','Smell-ball-units','Taste-ball-units','Taste-dilution-degree','Turbidity-NTU',\n",
    "#           'pH ']\n",
    "\n",
    "select1 = selectB1\n",
    "# select1 = list(X.columns[1:-3]) # select all features for GB model"
   ]
  },
  {
   "cell_type": "code",
   "execution_count": null,
   "metadata": {},
   "outputs": [],
   "source": [
    "sns.heatmap(X[select1].corr())"
   ]
  },
  {
   "cell_type": "markdown",
   "metadata": {},
   "source": [
    "### Feature Selection Combination 2 - Logistic Regression"
   ]
  },
  {
   "cell_type": "code",
   "execution_count": null,
   "metadata": {},
   "outputs": [],
   "source": [
    "# select2 = ['Coli-like-bacteria_2020','Colony-count-at-22-C_2020'] #good combi\n",
    "# select2 = ['Colony-count-at-22-C_2020','Coli-like-bacteria_2020','Coli-like-bacteria_2019'] \n",
    "select2 = ['Manganese','Coli-like-bacteria','Colony-count-at-22-C'] \n",
    "# select2 = ['Colony-count-at-22-C_2020','Electrical-conductivity_2019']\n",
    "sns.heatmap(X[select2].corr())"
   ]
  },
  {
   "cell_type": "code",
   "execution_count": null,
   "metadata": {},
   "outputs": [],
   "source": [
    "gbc_select = select1 # Change feature selection for GB classifier here\n",
    "svm_select = select1 # Change feature selection for SVM classifier here\n",
    "lr_select = select2 # Change feature selection for logistic regression here"
   ]
  },
  {
   "cell_type": "markdown",
   "metadata": {},
   "source": [
    "### 3.1 Feature Selection"
   ]
  },
  {
   "cell_type": "markdown",
   "metadata": {},
   "source": [
    "The output of this sub-section only serves as an insight, but is not used in the decision making process of feature selection."
   ]
  },
  {
   "cell_type": "markdown",
   "metadata": {},
   "source": [
    "### a. Display Feature importance (Tree-based) - Not implemented"
   ]
  },
  {
   "cell_type": "code",
   "execution_count": null,
   "metadata": {
    "scrolled": true
   },
   "outputs": [],
   "source": [
    "col_names = X.columns"
   ]
  },
  {
   "cell_type": "code",
   "execution_count": null,
   "metadata": {},
   "outputs": [],
   "source": [
    "clf = ExtraTreesClassifier(n_estimators=50)\n",
    "clf = clf.fit(X, y)\n",
    "clf.feature_importances_ \n",
    "model = SelectFromModel(clf, prefit=True)\n",
    "X_new = model.transform(X)"
   ]
  },
  {
   "cell_type": "code",
   "execution_count": null,
   "metadata": {},
   "outputs": [],
   "source": [
    "feature = pd.DataFrame([col_names,clf.feature_importances_],index=['feature', 'impt_score'])\n",
    "feature = feature.T.sort_values(by = ['impt_score'], ascending=False)\n",
    "feature.head(10)"
   ]
  },
  {
   "cell_type": "markdown",
   "metadata": {},
   "source": [
    "### b. L1-based feature selection - (Not implemented)"
   ]
  },
  {
   "cell_type": "code",
   "execution_count": null,
   "metadata": {},
   "outputs": [],
   "source": [
    "model = Pipeline([\n",
    "  ('feature_selection', SelectFromModel(LinearSVC(C=0.01, penalty=\"l1\", dual=False).fit(X, y)\n",
    "                                        , prefit=True))\n",
    "])\n",
    "\n",
    "X_new = model.transform(X)"
   ]
  },
  {
   "cell_type": "code",
   "execution_count": null,
   "metadata": {},
   "outputs": [],
   "source": [
    "fs = pd.DataFrame(X_new).sum(axis=0)\n",
    "fa = pd.DataFrame(X.sum(),columns = ['sum'])\n",
    "fa['match'] = fa['sum'].isin(fs)"
   ]
  },
  {
   "cell_type": "code",
   "execution_count": null,
   "metadata": {},
   "outputs": [],
   "source": [
    "fa[fa['match']].index # Selected features "
   ]
  },
  {
   "cell_type": "code",
   "execution_count": null,
   "metadata": {},
   "outputs": [],
   "source": [
    "X_new.shape"
   ]
  },
  {
   "cell_type": "code",
   "execution_count": null,
   "metadata": {},
   "outputs": [],
   "source": [
    "X_lr = X_new\n",
    "pd.DataFrame(X,columns=fa[fa['match']].index)"
   ]
  },
  {
   "cell_type": "markdown",
   "metadata": {},
   "source": [
    "## 4. Model Development - Logistic Regression"
   ]
  },
  {
   "cell_type": "code",
   "execution_count": null,
   "metadata": {},
   "outputs": [],
   "source": [
    "X_lr = X.loc[:,lr_select]"
   ]
  },
  {
   "cell_type": "code",
   "execution_count": null,
   "metadata": {},
   "outputs": [],
   "source": [
    "X_lr = pd.DataFrame(X_lr, columns=lr_select)"
   ]
  },
  {
   "cell_type": "code",
   "execution_count": null,
   "metadata": {
    "scrolled": true
   },
   "outputs": [],
   "source": [
    "X_train,X_test,y_train,y_test = train_test_split(X_lr,y,test_size = TEST_SIZE, \n",
    "                                                 random_state = RAND_STATE_SEED, stratify=y)\n",
    "le = LabelEncoder() # encoder to do label encoder\n",
    "y_train = le.fit_transform(y_train) #apply LE to all columns\n",
    "y_test = le.fit_transform(y_test) #apply LE to all columns"
   ]
  },
  {
   "cell_type": "markdown",
   "metadata": {},
   "source": [
    "### 4.1 Logistic Regression Model"
   ]
  },
  {
   "cell_type": "code",
   "execution_count": null,
   "metadata": {},
   "outputs": [],
   "source": [
    "print(X_lr.shape)\n",
    "y_test"
   ]
  },
  {
   "cell_type": "code",
   "execution_count": null,
   "metadata": {},
   "outputs": [],
   "source": [
    "# Grid Search Parameter\n",
    "param_grid_lr = {\n",
    "    'max_iter': [20, 50, 100, 200, 500, 1000],                      \n",
    "    'solver': ['newton-cg', 'lbfgs', 'liblinear', 'sag', 'saga'],   \n",
    "    'class_weight': [0.7, 0.3]                                   \n",
    "}\n",
    "\n",
    "logModel_grid = GridSearchCV(estimator=LogisticRegression(random_state=RAND_STATE_SEED), \n",
    "                             param_grid=param_grid_lr, verbose=1, cv=10, n_jobs=-1)"
   ]
  },
  {
   "cell_type": "code",
   "execution_count": null,
   "metadata": {},
   "outputs": [],
   "source": [
    "# Grid Search to find the best estimator\n",
    "logModel_grid.fit(X_train, y_train)\n",
    "print(logModel_grid.best_estimator_)"
   ]
  },
  {
   "cell_type": "code",
   "execution_count": null,
   "metadata": {},
   "outputs": [],
   "source": [
    "lr = LogisticRegression(C=1.0, class_weight=[0.7, 0.3], dual=False, \n",
    "                        fit_intercept=True, intercept_scaling=1, l1_ratio=None, max_iter=20, \n",
    "                        multi_class='ovr', n_jobs=None, penalty='l2', random_state=RAND_STATE_SEED, \n",
    "                        solver='newton-cg', tol=0.0001, verbose=0, warm_start=False)\n",
    "\n",
    "model = lr.fit(X_train,y_train)\n",
    "y_pred = lr.predict(X_test)"
   ]
  },
  {
   "cell_type": "code",
   "execution_count": null,
   "metadata": {},
   "outputs": [],
   "source": [
    "print(\"Kaggle equivalent accuracy score on validation dataset is %.4g\" % model.score(X_test, y_test))"
   ]
  },
  {
   "cell_type": "code",
   "execution_count": null,
   "metadata": {},
   "outputs": [],
   "source": [
    "y_pred"
   ]
  },
  {
   "cell_type": "markdown",
   "metadata": {},
   "source": [
    "### 4.2 Model Evaluation - Logistic Regression"
   ]
  },
  {
   "cell_type": "code",
   "execution_count": null,
   "metadata": {},
   "outputs": [],
   "source": [
    "# Confusion Matrix\n",
    "cnf_matrix = metrics.confusion_matrix(y_test, y_pred)\n",
    "cnf_matrix"
   ]
  },
  {
   "cell_type": "code",
   "execution_count": null,
   "metadata": {},
   "outputs": [],
   "source": [
    "print('Accuracy: %.3f' % metrics.accuracy_score(y_test, y_pred))\n",
    "print('Precision: %.3f' % metrics.precision_score(y_test, y_pred))\n",
    "print('Sensitivity Recall: %.3f' % metrics.recall_score(y_test, y_pred))"
   ]
  },
  {
   "cell_type": "code",
   "execution_count": null,
   "metadata": {},
   "outputs": [],
   "source": [
    "# Cross-validation procedure used to compare the performance of machine learning models.\n",
    "\n",
    "cv = RepeatedKFold(n_splits=5, n_repeats=5, random_state=RAND_STATE_SEED)\n",
    "# evaluate model\n",
    "accuracy = cross_val_score(model, X, y, scoring='accuracy', cv=cv, n_jobs=-1)\n",
    "precision = cross_val_score(model, X, y, scoring='precision', cv=cv, n_jobs=-1)\n",
    "# report performance\n",
    "print('K-Fold Cross Validation Accuracy: %.3f (%.3f)' % (np.mean(accuracy), np.std(accuracy)))\n",
    "print('K-Fold Cross Validation Precision: %.3f (%.3f)' % (np.mean(precision), np.std(precision)))"
   ]
  },
  {
   "cell_type": "code",
   "execution_count": null,
   "metadata": {
    "scrolled": true
   },
   "outputs": [],
   "source": [
    "y_pred_proba = lr.predict_proba(X_test)[::,1]\n",
    "fpr, tpr, _ = metrics.roc_curve(y_test,  y_pred_proba)\n",
    "roc_auc = metrics.roc_auc_score(y_test, y_pred_proba)\n",
    "\n",
    "fig, ax = plt.subplots(figsize=(5, 5))\n",
    "\n",
    "ax.plot(\n",
    "    fpr,\n",
    "    tpr,\n",
    "    color=\"grey\",\n",
    "    lw=2,\n",
    "    label=\"ROC curve (area = %0.4f)\" % roc_auc,\n",
    ")\n",
    "ax.plot([0, 1], [0, 1], color=\"grey\", lw=2, linestyle=\"--\", label='0.5 area')\n",
    "ax.set(xlabel= \"False Positive Rate\", ylabel = \"True Positive Rate\")\n",
    "\n",
    "ax.spines['top'].set_visible(False)\n",
    "ax.spines['right'].set_visible(False)\n",
    "ax.spines['bottom'].set_visible(False)\n",
    "ax.spines['left'].set_visible(False)\n",
    "ax.legend(frameon=False, loc=\"lower right\")\n",
    "plt.show()"
   ]
  },
  {
   "cell_type": "code",
   "execution_count": null,
   "metadata": {},
   "outputs": [],
   "source": [
    "y_pred"
   ]
  },
  {
   "cell_type": "code",
   "execution_count": null,
   "metadata": {},
   "outputs": [],
   "source": [
    "print(lr.coef_)\n",
    "print(lr.intercept_)"
   ]
  },
  {
   "cell_type": "markdown",
   "metadata": {},
   "source": [
    "## 5. Model Development - Support Vector Machines"
   ]
  },
  {
   "cell_type": "code",
   "execution_count": null,
   "metadata": {},
   "outputs": [],
   "source": [
    "X_svm = X.loc[:,svm_select]\n",
    "scale= StandardScaler()\n",
    "# standardization of dependent variables\n",
    "X_svm = scale.fit_transform(X_svm)\n",
    "X_svm = pd.DataFrame(X_svm, columns = svm_select)"
   ]
  },
  {
   "cell_type": "code",
   "execution_count": null,
   "metadata": {},
   "outputs": [],
   "source": [
    "X_train,X_test,y_train,y_test = train_test_split(X_svm,y,test_size= TEST_SIZE,random_state = RAND_STATE_SEED, stratify=y)"
   ]
  },
  {
   "cell_type": "code",
   "execution_count": null,
   "metadata": {},
   "outputs": [],
   "source": [
    "# Grid Search Parameter\n",
    "param_grid_svm = {\n",
    "    'max_iter': [20, 50, 100, 200, 500, 1000],                      \n",
    "    'solver': ['newton-cg', 'lbfgs', 'liblinear', 'sag', 'saga'],   \n",
    "    'class_weight': [0.7, 0.3]                                   \n",
    "}\n",
    "\n",
    "svmModel_grid = GridSearchCV(estimator=SVC(random_state=RAND_STATE_SEED), \n",
    "                             param_grid=param_grid_svm, verbose=1, cv=10, n_jobs=-1)\n",
    "svmModel_grid  # need to rewrite code for this cell"
   ]
  },
  {
   "cell_type": "code",
   "execution_count": null,
   "metadata": {},
   "outputs": [],
   "source": [
    "polynomial_svm_clf = Pipeline([\n",
    "    ('poly_features', PolynomialFeatures(degree=3)),\n",
    "    ('scaler', StandardScaler()),\n",
    "    ('svm_clf', SVC(kernel='poly', degree=3, coef0=1, C=5))\n",
    "])\n",
    "\n",
    "svm_model = polynomial_svm_clf.fit(X_train,y_train)"
   ]
  },
  {
   "cell_type": "code",
   "execution_count": null,
   "metadata": {},
   "outputs": [],
   "source": [
    "svm_model.score(X_test, y_test)\n",
    "print(\"Kaggle equivalent accuracy score on validation dataset is %.4g\" % svm_model.score(X_test, y_test))"
   ]
  },
  {
   "cell_type": "code",
   "execution_count": null,
   "metadata": {},
   "outputs": [],
   "source": [
    "y_pred = svm_model.predict(X_test)"
   ]
  },
  {
   "cell_type": "code",
   "execution_count": null,
   "metadata": {},
   "outputs": [],
   "source": [
    "false_positive_rate, true_positive_rate, thresholds = roc_curve(y_test, y_pred)\n",
    "roc_auc = auc(false_positive_rate, true_positive_rate)\n",
    "roc_auc"
   ]
  },
  {
   "cell_type": "markdown",
   "metadata": {},
   "source": [
    "### 5.1 Model Evaluation - Support Vector Machine "
   ]
  },
  {
   "cell_type": "code",
   "execution_count": null,
   "metadata": {},
   "outputs": [],
   "source": [
    "# Confusion Matrix\n",
    "cnf_matrix = metrics.confusion_matrix(y_test, y_pred)\n",
    "cnf_matrix"
   ]
  },
  {
   "cell_type": "code",
   "execution_count": null,
   "metadata": {
    "scrolled": true
   },
   "outputs": [],
   "source": [
    "print('Accuracy: %.3f' % metrics.accuracy_score(y_test, y_pred))\n",
    "print('Precision: %.3f' % metrics.precision_score(y_test, y_pred))\n",
    "print('Sensitivity Recall: %.3f' % metrics.recall_score(y_test, y_pred))"
   ]
  },
  {
   "cell_type": "code",
   "execution_count": null,
   "metadata": {},
   "outputs": [],
   "source": [
    "# Cross-validation procedure used to compare the performance of machine learning models.\n",
    "\n",
    "cv = RepeatedKFold(n_splits=5, n_repeats=5, random_state=RAND_STATE_SEED)\n",
    "# evaluate model\n",
    "accuracy = cross_val_score(svm_model, X, y, scoring='accuracy', cv=cv, n_jobs=-1)\n",
    "precision = cross_val_score(svm_model, X, y, scoring='precision', cv=cv, n_jobs=-1)\n",
    "# report performance\n",
    "print('K-Fold Cross Validation Accuracy: %.3f (%.3f)' % (np.mean(accuracy), np.std(accuracy)))\n",
    "print('K-Fold Cross Validation Precision: %.3f (%.3f)' % (np.mean(precision), np.std(precision)))"
   ]
  },
  {
   "cell_type": "code",
   "execution_count": null,
   "metadata": {
    "scrolled": false
   },
   "outputs": [],
   "source": [
    "y_pred_proba = svm_model.predict(X_test)\n",
    "fpr, tpr, _ = metrics.roc_curve(y_test,  y_pred_proba)\n",
    "roc_auc = metrics.roc_auc_score(y_test, y_pred_proba)\n",
    "\n",
    "fig, ax = plt.subplots(figsize=(5, 5))\n",
    "\n",
    "ax.plot(\n",
    "    fpr,\n",
    "    tpr,\n",
    "    color=\"grey\",\n",
    "    lw=2,\n",
    "    label=\"ROC curve (area = %0.4f)\" % roc_auc,\n",
    ")\n",
    "ax.plot([0, 1], [0, 1], color=\"grey\", lw=2, linestyle=\"--\", label='0.5 area')\n",
    "ax.set(xlabel= \"False Positive Rate\", ylabel = \"True Positive Rate\")\n",
    "\n",
    "ax.spines['top'].set_visible(False)\n",
    "ax.spines['right'].set_visible(False)\n",
    "ax.spines['bottom'].set_visible(False)\n",
    "ax.spines['left'].set_visible(False)\n",
    "ax.legend(frameon=False, loc=\"lower right\")\n",
    "plt.show()"
   ]
  },
  {
   "cell_type": "markdown",
   "metadata": {},
   "source": [
    "## 6. Model Development - Gradient Boost Classifier"
   ]
  },
  {
   "cell_type": "code",
   "execution_count": null,
   "metadata": {},
   "outputs": [],
   "source": [
    "# gbc_select = ['Aluminium_2019', 'Aluminium_2020', 'Ammonium_2019',\n",
    "#        'Ammonium_2020', 'Boron_2019', 'Boron_2020', 'Chloride_2019',\n",
    "#        'Chloride_2020', 'Coli-like-bacteria-Colilert_2019',\n",
    "#        'Coli-like-bacteria-Colilert_2020', 'Coli-like-bacteria_2019',\n",
    "#        'Coli-like-bacteria_2020', 'Colony-count-at-22-C_2019',\n",
    "#        'Colony-count-at-22-C_2020', 'Fluoride_2019',\n",
    "#        'Fluoride_2020', 'Iron_2019', 'Iron_2020', 'Manganese_2019',\n",
    "#        'Manganese_2020', 'Nitrate_2019', 'Nitrate_2020', 'Nitrite_2019',\n",
    "#        'Nitrite_2020', 'Oxidability_2019', 'Oxidability_2020', 'Sodium_2019',\n",
    "#        'Sodium_2020', 'Sulphate_2019', 'Sulphate_2020']\n",
    "\n",
    "# gbc_select = X.iloc[:,1:-4].columns\n",
    "X_gbc = X.loc[:,gbc_select]\n",
    "scale= StandardScaler()\n",
    "# standardization of dependent variables\n",
    "X_gbc = scale.fit_transform(X_gbc)\n",
    "X_gbc = pd.DataFrame(X_gbc, columns = gbc_select)"
   ]
  },
  {
   "cell_type": "code",
   "execution_count": null,
   "metadata": {},
   "outputs": [],
   "source": [
    "X_train,X_test,y_train,y_test = train_test_split(X_gbc,y,test_size= TEST_SIZE,random_state = RAND_STATE_SEED, stratify=y)"
   ]
  },
  {
   "cell_type": "code",
   "execution_count": null,
   "metadata": {},
   "outputs": [],
   "source": [
    "# learning_rates = [1, 0.5, 0.1, 0.01]\n",
    "learning_rates = [0.5]\n",
    "\n",
    "\n",
    "for eta in learning_rates:\n",
    "    gbclf = GradientBoostingClassifier(criterion='friedman_mse', init=None,\n",
    "                               learning_rate=eta, loss='deviance', max_depth=3,\n",
    "                               max_features=None, max_leaf_nodes=None, min_samples_leaf=1,\n",
    "                               min_samples_split=2, min_weight_fraction_leaf=0.0,\n",
    "                               n_estimators=500, presort='auto', random_state=RAND_STATE_SEED,\n",
    "                               subsample=1.0, verbose=0, warm_start=False)\n",
    "    gb_model = gbclf.fit(X_train, y_train)"
   ]
  },
  {
   "cell_type": "code",
   "execution_count": null,
   "metadata": {},
   "outputs": [],
   "source": [
    "gbclf.score(X_test, y_test)\n",
    "print(\"Kaggle equivalent accuracy score on validation dataset is %.4g\" % gbclf.score(X_test, y_test))"
   ]
  },
  {
   "cell_type": "code",
   "execution_count": null,
   "metadata": {},
   "outputs": [],
   "source": [
    "y_pred = gbclf.predict(X_test)"
   ]
  },
  {
   "cell_type": "code",
   "execution_count": null,
   "metadata": {},
   "outputs": [],
   "source": [
    "false_positive_rate, true_positive_rate, thresholds = roc_curve(y_test, y_pred)\n",
    "roc_auc = auc(false_positive_rate, true_positive_rate)\n",
    "roc_auc"
   ]
  },
  {
   "cell_type": "markdown",
   "metadata": {},
   "source": [
    "### 6.1 Model Evaluation - Gradient Boost Classifier"
   ]
  },
  {
   "cell_type": "code",
   "execution_count": null,
   "metadata": {},
   "outputs": [],
   "source": [
    "def modelfit(alg, dtrain, predictors, performCV=True, printFeatureImportance=True, cv_folds=5):\n",
    "    #Fit the algorithm on the data\n",
    "    alg.fit(dtrain, predictors)\n",
    "        \n",
    "    #Predict training set:\n",
    "    dtrain_predictions = alg.predict(dtrain)\n",
    "    dtrain_predprob = alg.predict_proba(dtrain)[:,1]\n",
    "    \n",
    "    #Perform cross-validation:\n",
    "    if performCV:\n",
    "        cv_score = cross_val_score(alg, dtrain, predictors, cv=cv_folds, scoring='roc_auc')\n",
    "    \n",
    "    #Print model report:\n",
    "    print(\"\\nModel Report\")\n",
    "    print(\"Accuracy : %.4g\" % metrics.accuracy_score(predictors.values, dtrain_predictions))\n",
    "    print(\"AUC Score (Train): %f\" % metrics.roc_auc_score(predictors, dtrain_predprob))\n",
    "    \n",
    "    if performCV:\n",
    "        print(\"CV Score : Mean - %.7g | Std - %.7g | Min - %.7g | Max - %.7g\" % (np.mean(cv_score),np.std(cv_score),min(cv_score),max(cv_score)))\n",
    "    \n",
    "    #Print Feature Importance:\n",
    "    if printFeatureImportance:\n",
    "        feat_imp = pd.Series(alg.feature_importances_, dtrain.columns).sort_values(ascending=False)\n",
    "        feat_imp.plot(kind='bar', title='Feature Importances', figsize=(15, 5))\n",
    "        plt.ylabel('Feature Importance Score')\n"
   ]
  },
  {
   "cell_type": "code",
   "execution_count": null,
   "metadata": {},
   "outputs": [],
   "source": [
    "modelfit(gbclf, X_train, y_train)"
   ]
  },
  {
   "cell_type": "code",
   "execution_count": null,
   "metadata": {},
   "outputs": [],
   "source": [
    "# Confusion Matrix\n",
    "cnf_matrix = metrics.confusion_matrix(y_test, y_pred)\n",
    "cnf_matrix"
   ]
  },
  {
   "cell_type": "code",
   "execution_count": null,
   "metadata": {
    "scrolled": true
   },
   "outputs": [],
   "source": [
    "print('Accuracy: %.3f' % metrics.accuracy_score(y_test, y_pred))\n",
    "print('Precision: %.3f' % metrics.precision_score(y_test, y_pred))\n",
    "print('Sensitivity Recall: %.3f' % metrics.recall_score(y_test, y_pred))"
   ]
  },
  {
   "cell_type": "code",
   "execution_count": null,
   "metadata": {},
   "outputs": [],
   "source": [
    "# Cross-validation procedure used to compare the performance of machine learning models.\n",
    "\n",
    "cv = RepeatedKFold(n_splits=5, n_repeats=5, random_state=RAND_STATE_SEED)\n",
    "# evaluate model\n",
    "accuracy = cross_val_score(gb_model, X, y, scoring='accuracy', cv=cv, n_jobs=-1)\n",
    "precision = cross_val_score(gb_model, X, y, scoring='precision', cv=cv, n_jobs=-1)\n",
    "# report performance\n",
    "print('K-Fold Cross Validation Accuracy: %.3f (%.3f)' % (np.mean(accuracy), np.std(accuracy)))\n",
    "print('K-Fold Cross Validation Precision: %.3f (%.3f)' % (np.mean(precision), np.std(precision)))"
   ]
  },
  {
   "cell_type": "code",
   "execution_count": null,
   "metadata": {
    "scrolled": false
   },
   "outputs": [],
   "source": [
    "y_pred_proba = gbclf.predict(X_test)\n",
    "fpr, tpr, _ = metrics.roc_curve(y_test,  y_pred_proba)\n",
    "roc_auc = metrics.roc_auc_score(y_test, y_pred_proba)\n",
    "\n",
    "fig, ax = plt.subplots(figsize=(5, 5))\n",
    "\n",
    "ax.plot(\n",
    "    fpr,\n",
    "    tpr,\n",
    "    color=\"grey\",\n",
    "    lw=2,\n",
    "    label=\"ROC curve (area = %0.4f)\" % roc_auc,\n",
    ")\n",
    "ax.plot([0, 1], [0, 1], color=\"grey\", lw=2, linestyle=\"--\", label='0.5 area')\n",
    "ax.set(xlabel= \"False Positive Rate\", ylabel = \"True Positive Rate\")\n",
    "\n",
    "ax.spines['top'].set_visible(False)\n",
    "ax.spines['right'].set_visible(False)\n",
    "ax.spines['bottom'].set_visible(False)\n",
    "ax.spines['left'].set_visible(False)\n",
    "ax.legend(frameon=False, loc=\"lower right\")\n",
    "plt.show()"
   ]
  },
  {
   "cell_type": "markdown",
   "metadata": {},
   "source": [
    "## a. Submission with Logistic Regression"
   ]
  },
  {
   "cell_type": "code",
   "execution_count": null,
   "metadata": {},
   "outputs": [],
   "source": [
    "df_test = pd.read_csv('test.csv')"
   ]
  },
  {
   "cell_type": "code",
   "execution_count": null,
   "metadata": {},
   "outputs": [],
   "source": [
    "df_test.shape"
   ]
  },
  {
   "cell_type": "code",
   "execution_count": null,
   "metadata": {},
   "outputs": [],
   "source": [
    "df_test.describe().T.head()"
   ]
  },
  {
   "cell_type": "code",
   "execution_count": null,
   "metadata": {},
   "outputs": [],
   "source": [
    "col_names = df_test.columns # store original column names\n",
    "grouped = df_test.groupby(lambda col: col[:-5], axis=1) # remove all '_2019' and '_2020' suffixes\n",
    "\n",
    "X = grouped.transform(lambda x: x.values.tolist())\n",
    "X = X.loc[:,~X.columns.str.match(r'(.*?)\\_2020')]\n",
    "X = X.rename(columns=lambda x: re.sub(r'\\_2019', '', x))"
   ]
  },
  {
   "cell_type": "code",
   "execution_count": null,
   "metadata": {},
   "outputs": [],
   "source": [
    "X = X.applymap(replace_nan)"
   ]
  },
  {
   "cell_type": "code",
   "execution_count": null,
   "metadata": {},
   "outputs": [],
   "source": [
    "X = pd.concat([X.iloc[:,i].apply(pd.Series) for i in range(X.shape[1])],axis=1)\n",
    "X.columns = col_names"
   ]
  },
  {
   "cell_type": "markdown",
   "metadata": {},
   "source": [
    "### a.1 Standard scaling"
   ]
  },
  {
   "cell_type": "code",
   "execution_count": null,
   "metadata": {},
   "outputs": [],
   "source": [
    "scale = StandardScaler()\n",
    "\n",
    "# standardization of dependent variables\n",
    "X = scale.fit_transform(X)\n",
    "X = pd.DataFrame(X,columns = col_names) "
   ]
  },
  {
   "cell_type": "markdown",
   "metadata": {},
   "source": [
    "### a.2 Feature engineering option"
   ]
  },
  {
   "cell_type": "code",
   "execution_count": null,
   "metadata": {},
   "outputs": [],
   "source": [
    "X_fe = X.iloc[:,:-2]\n",
    "grouped = X_fe.groupby(lambda col: col[:-5], axis=1) # remove all '_2019' and '_2020' suffixes\n",
    "\n",
    "X_fe = grouped.transform(lambda x: x.values.tolist())\n",
    "X_fe = X_fe.loc[:,~X_fe.columns.str.match(r'(.*?)\\_2020')]\n",
    "X_fe = X_fe.rename(columns=lambda x: re.sub(r'\\_2019', '', x))\n",
    "        \n",
    "X_fe = X_fe.applymap(np.mean)\n",
    "X = pd.concat([X_fe,X.iloc[:,-2:]],axis=1)"
   ]
  },
  {
   "cell_type": "code",
   "execution_count": null,
   "metadata": {},
   "outputs": [],
   "source": [
    "X = pd.get_dummies(X, columns = ['compliance_2019','compliance_2020']) # create dummy variables"
   ]
  },
  {
   "cell_type": "code",
   "execution_count": null,
   "metadata": {},
   "outputs": [],
   "source": [
    "X_lr = X.loc[:,lr_select]"
   ]
  },
  {
   "cell_type": "code",
   "execution_count": null,
   "metadata": {},
   "outputs": [],
   "source": [
    "X_lr = X_lr.fillna(0)"
   ]
  },
  {
   "cell_type": "code",
   "execution_count": null,
   "metadata": {},
   "outputs": [],
   "source": [
    "pred = lr.predict(X_lr)\n",
    "pred"
   ]
  },
  {
   "cell_type": "code",
   "execution_count": null,
   "metadata": {},
   "outputs": [],
   "source": [
    "result = pd.DataFrame({\"station_id\":df_test[\"station_id\"], \"compliance_2021\":pred})"
   ]
  },
  {
   "cell_type": "code",
   "execution_count": null,
   "metadata": {},
   "outputs": [],
   "source": [
    "result.groupby(['compliance_2021']).count()"
   ]
  },
  {
   "cell_type": "code",
   "execution_count": null,
   "metadata": {},
   "outputs": [],
   "source": [
    "result.to_csv(\"lg_submission.csv\", index=False)"
   ]
  },
  {
   "cell_type": "markdown",
   "metadata": {},
   "source": [
    "## b. Submission with Gradient Boosting"
   ]
  },
  {
   "cell_type": "code",
   "execution_count": null,
   "metadata": {},
   "outputs": [],
   "source": [
    "X_gbc = X[gbc_select]\n",
    "X_gbc = X_gbc.fillna(0)"
   ]
  },
  {
   "cell_type": "code",
   "execution_count": null,
   "metadata": {},
   "outputs": [],
   "source": [
    "X_gbc"
   ]
  },
  {
   "cell_type": "code",
   "execution_count": null,
   "metadata": {},
   "outputs": [],
   "source": [
    "pred = gbclf.predict(X_gbc)\n",
    "pred"
   ]
  },
  {
   "cell_type": "code",
   "execution_count": null,
   "metadata": {
    "scrolled": true
   },
   "outputs": [],
   "source": [
    "result = pd.DataFrame({\"station_id\":df_test[\"station_id\"], \"compliance_2021\":pred})"
   ]
  },
  {
   "cell_type": "code",
   "execution_count": null,
   "metadata": {},
   "outputs": [],
   "source": [
    "result.groupby(['compliance_2021']).count()"
   ]
  },
  {
   "cell_type": "code",
   "execution_count": null,
   "metadata": {},
   "outputs": [],
   "source": [
    "result.to_csv(\"gbclf_submission.csv\", index=False) # Accuracy = 0.8404"
   ]
  },
  {
   "cell_type": "markdown",
   "metadata": {},
   "source": [
    "## c. Submission with Support Vector Classification"
   ]
  },
  {
   "cell_type": "code",
   "execution_count": null,
   "metadata": {},
   "outputs": [],
   "source": [
    "X_svc = X[svm_select]\n",
    "X_svc = X_svc.fillna(0)"
   ]
  },
  {
   "cell_type": "code",
   "execution_count": null,
   "metadata": {},
   "outputs": [],
   "source": [
    "X_svc"
   ]
  },
  {
   "cell_type": "code",
   "execution_count": null,
   "metadata": {},
   "outputs": [],
   "source": [
    "pred = svm_model.predict(X_svc)\n",
    "pred"
   ]
  },
  {
   "cell_type": "code",
   "execution_count": null,
   "metadata": {
    "scrolled": true
   },
   "outputs": [],
   "source": [
    "result = pd.DataFrame({\"station_id\":df_test[\"station_id\"], \"compliance_2021\":pred})"
   ]
  },
  {
   "cell_type": "code",
   "execution_count": null,
   "metadata": {},
   "outputs": [],
   "source": [
    "result.groupby(['compliance_2021']).count()"
   ]
  },
  {
   "cell_type": "code",
   "execution_count": null,
   "metadata": {},
   "outputs": [],
   "source": [
    "result.to_csv(\"svclf_submission.csv\", index=False) # Accuracy = ?"
   ]
  }
 ],
 "metadata": {
  "kernelspec": {
   "display_name": "Python 3",
   "language": "python",
   "name": "python3"
  },
  "language_info": {
   "codemirror_mode": {
    "name": "ipython",
    "version": 3
   },
   "file_extension": ".py",
   "mimetype": "text/x-python",
   "name": "python",
   "nbconvert_exporter": "python",
   "pygments_lexer": "ipython3",
   "version": "3.8.3"
  }
 },
 "nbformat": 4,
 "nbformat_minor": 4
}
