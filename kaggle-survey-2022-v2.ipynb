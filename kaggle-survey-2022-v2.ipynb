{
 "cells": [
  {
   "cell_type": "markdown",
   "metadata": {},
   "source": [
    "# <center> 2022 Kaggle Machine Learning and Data Science Survey Analytics <center>"
   ]
  },
  {
   "cell_type": "code",
   "execution_count": 1,
   "metadata": {},
   "outputs": [],
   "source": [
    "import numpy as np\n",
    "import pandas as pd \n",
    "import re\n",
    "\n",
    "import seaborn as sns\n",
    "import matplotlib.pyplot as plt\n",
    "\n",
    "import warnings\n",
    "warnings.filterwarnings(\"ignore\")\n",
    "\n",
    "sns.set_palette('rocket',5)"
   ]
  },
  {
   "cell_type": "markdown",
   "metadata": {},
   "source": [
    "# <center> My motivation, not yours, keep reading if you wish 🤔 <center>\n",
    "\n",
    "---\n",
    "\n",
    "###  <center> Past Life <center>\n",
    "    \n",
    "The child in me is inclined to believe that apart from the lore that explains the whole business purpose or value of this survey analytics project, perhaps some stroke of genius or showmanship during the presentation might impress the audience, who would otherwise have their minds wandered into early planning of weekend hiking trip on a Friday evening meeting which I reserved months in advance. After all, the employee engagement survey seems like another annual PR exercise, and we as employees should just be mindful of our priorities - to refrain ourselves from spending too much time. The task instruction is clear - to use verbatim code from previous year questionnaire, prepare the deck in the standard format and most importantly, deliver actionable business insights.\n",
    "\n",
    "<div>\n",
    "<img src=\"computer.png\" width=\"500\"/>\n",
    "</div>\n",
    "\n",
    "---\n",
    "\n",
    "###  <center> Analyzing the Kaggle Survey questions/response 2022 <center>\n",
    "    \n",
    "`23997` international survey participants responded to the **Kaggle Survey 2022**. Participants were given `44` questions to answer, which covered various topics relating to their data scientist journey. Topics include, but are not limited to, their educational and professional backgrounds, the courses chosen to hone data science skills, coding experience, the preferred data science tools used for competitions and work, as well as related disciplines that they are involved, such as cloud computing and databases.\n",
    "\n",
    "The original dataset contains responses to various question types like multiple selection questions (eg, select the data products you often use - all that apply), multiple choice single selection question (eg. age-range), true-false question (eg, are you a student?). The multiple selection questions, also known as select all that apply, are the most popular question type in this survey. This type of question leaves the survey more open-ended, given that every (aspiring or seasoned) data scientist experience is unique. On such questions, sometimes a *None* selection is offered, and respondent chooses it. That leaves the other categories for that question blank or *NaN*. Other times, they select multiple options for a given question. The missing values, denoted by *NaN*, in most cases do not obscure our analysis, as we are likely to perform data aggregation rather than evaluate individual user experience. Besides, *NaN* in most simply means not selected so it is assigned to zero value or blank.\n",
    "\n",
    "The outcome of the survey should provide insights, which may not be obvious immediately, but having an initial business objective can help navigate through the noise of the dataset through formulating an initial hypothesis, testing that hypothesis, drawing a conclusion and then repeating the process until objective is met. It is also worthy to mention that depending on the business use case, each use case may require different methods of preparation, presentation and analysis from another case.  There is a no one-size-fit-all data analysis solution and insights that are equally actionable across all use cases. That is why a good business problem statement is as important as its final solution, even if it changes over the course of our data science project, at least it ensures that we set out on the right track instead of going out on a random walk exercise. \n",
    "\n",
    "Here I will illustrate an example from this survey analysis why there is a no one-size fit all data analysis solution and how lack of data understanding may lead to non-optimal decision making. `30.7%` of Chinese respondents cite that they use Kaggle Learn Courses, the highest percentage compared to other geographies. For Indian respondents, only `25.0%` use that learning platform. However, there are `8792` respondents from India and only `453` from China. There are more respondents from India than from China. If the UX Design team wants to improve the learning experience on the platform, they should pay attention to the number of user on the platform rather than the percentage. However, if marketing wants to analyze the market share of course learning platforms, they may use `30.7%` to justify that Kaggle Learn has a higher market share than other courses in China, taking into account two caveats that may have inflated the values for China. Firstly, the survey population from China is way lower than the other countries, so the responses may be from a biased sample and secondly, some of the listed learning options may not be accessible to China due to regulation and restrictions imposed by the government - for example, the popular Coursera platform is inaccessible in China.\n",
    "\n",
    "Another way of enriching the insights derived from the survey response to drive a business case is by envisioning Kaggle relationship with its customer as a value chain. If you represent each Kaggle user as being part of a value chain, each Kaggle offers differentiated products and services to us (customers) who are part of this value chain. It seems logical and methodical to segment the data scientist journey the same way companies have different product offerings catering to different customer segments. Already we have observed Kaggle encouraging segmentation in user engagement, as seen in the categories of `Competitions`, `Dataset`, `Notebooks` and `Discussions` and then awarding users with ranking points depending on their level of engagement or competence in each of these categories.\n",
    "\n",
    "Typically, the data scientist journey begins from learning courses, to the competition platform, to familiarity with deployed ML technologies (like cloud or on-premise solutions, to data science specializations like natural language processing, computer vision, neural network research, sometimes complemented by professional work experience in specific industries). Kaggle, as a company, has positioned its expertise well, in hosting data science competition but participating in competitions is only one stage of the data scientist journey. Is Kaggle keen on offering more to its large existing user base - Kaggle could be thought of to be the \"Home for Data Scientists\"), such as offering new products, upselling or cross-selling products. For example, after focusing on a key user group (junior data scientist with 3 to 5 years work experience), we noticed that many of these users also possess either basic or some skills in cloud computing technologies but don't know exactly how to integrate their data modeling finesse with real-world machine learning technologies. This observation could be followed up with a study group initiated by Kaggle to understand the skills gap between real world data science versus the sandbox. With recommendations from this follow up study, Kaggle may work with their partners or develop in-house expertise to offer new products to bridge the gap. On upselling and cross-selling product strategies, an example could be a use case where existing Kaggle competition participants (`Novice` and `Expert`) who want to improve their competition ranking but don't know how to and Kaggle can work with its network of competition `Grandmaster` or `Master` to offer masterclasses on the Kaggle learning platform for a modest fee on a new premium option.\n",
    "\n",
    "Hope that the above discussion offers a short summary of Kaggle's business and set up a case for the survey analysis. **Let's get started!**"
   ]
  },
  {
   "cell_type": "markdown",
   "metadata": {},
   "source": [
    "##  <center> Initial Business Objective <center>\n",
    "**Target group**: Many Data Science newcomers who are entering the space with little or no experience in coding and/or machine learning libraries are using low to no code data solutions to deliver products in industry. Typically, they do not have software engineering work experience so companies assign them to projects that involve little to no coding. \n",
    "\n",
    "**Problem Statement**: My hypothesis is that this target group will have the highest attrition rate on the Kaggle platform; they will become inactive users after they start working in industry, where they find their coding and machine learning knowledge less relevant to the job. Explore this trend from the survey data. \n",
    "\n",
    "**Motivation**: The data science community to develop and foster new talent, through an onboarding and engagement process that promotes continuity and lower the attrition rate."
   ]
  },
  {
   "cell_type": "markdown",
   "metadata": {},
   "source": [
    "##  <center> Survey Insights sections <center>\n",
    "* [Top Data Science and Machine Learning Course Platforms](#courses)\n",
    "* [Preferred Programming Language by Data Scientist](#languages)\n",
    "* [Preferred Machine Learning Framework](#framework)\n",
    "* [Deploying Machine Learning models at work](#production)"
   ]
  },
  {
   "cell_type": "markdown",
   "metadata": {},
   "source": [
    "## 0. Glossary - Kaggle Survey Questions"
   ]
  },
  {
   "cell_type": "markdown",
   "metadata": {},
   "source": [
    "|Nr |Question                                 |Nr |Question                                           |Nr |Question                                           |\n",
    "|---|:----------------------------------------|---|:--------------------------------------------------|---|:--------------------------------------------------|\n",
    "|Q1 |Duration                                 |Q16|how many years you use ML libraries                |Q31|which cloud platform you use                       |\n",
    "|Q2 |your age                                 |Q17|which ML frameworks you regularly use              |Q32|which is your preferred cloud provider             |\n",
    "|Q3 |your gender                              |Q18|which ML algo you regularly use                    |Q33|which cloud provider you use                       |\n",
    "|Q4 |resident_country                         |Q19|which computer vision library you use              |Q34|which data storage you use                         |\n",
    "|Q5 |are you student                          |Q20|which NLP methods you regularly use                |Q35|which data products (databases) you use            |\n",
    "|Q6 |most popular course platform             |Q21|which pretrained model weights you use             |Q36|which BI tools you use                             |\n",
    "|Q7 |most helpful product or platform         |Q22|which ML hubs or repo your use                     |Q37|which ML cloud you use                             |\n",
    "|Q8 |your highest degree or formal education  |Q23|what job title                                     |Q38|which AutoML you use                               |\n",
    "|Q9 |did you publish paper                    |Q24|which industry                                     |Q39|which product you use to serve your ML model       |\n",
    "|Q10|did you publish paper related to ML      |Q25|how big is your company                            |Q40|what tools you use to monitor ML model             |\n",
    "|Q11|how long is your programming experience  |Q26|how many people you manage                         |Q41|which responsible AI or ML practice you use        |\n",
    "|Q12|what is your regular programming language|Q27|is your company exploring ML methods               |Q42|which hardware you use for ML training             |\n",
    "|Q13|what is your regular IDE                 |Q28|what are the important activities at work          |Q43|how many times you use TPU                         |\n",
    "|Q14|which hosted notebook products you use   |Q29|how much your pay                                  |Q44|which preferred social media outlet on data science|\n",
    "|Q15|which data visualization library you use |Q30|how much spent on ML compute in last 5 years       |                                                      |"
   ]
  },
  {
   "cell_type": "code",
   "execution_count": 2,
   "metadata": {},
   "outputs": [],
   "source": [
    "# df = pd.read_csv('../input/kaggle-survey-2022/kaggle_survey_2022_responses.csv')\n",
    "df = pd.read_csv('kaggle_survey_2022_responses.csv')"
   ]
  },
  {
   "cell_type": "code",
   "execution_count": 3,
   "metadata": {},
   "outputs": [
    {
     "data": {
      "text/plain": [
       "(23997, 296)"
      ]
     },
     "execution_count": 3,
     "metadata": {},
     "output_type": "execute_result"
    }
   ],
   "source": [
    "df.iloc[1:,:].shape"
   ]
  },
  {
   "cell_type": "code",
   "execution_count": 4,
   "metadata": {},
   "outputs": [],
   "source": [
    "header = df.iloc[:1,:].T.reset_index()\n",
    "header.columns = ['qn_idx', 'Question']\n",
    "\n",
    "header['Question'] = header['Question'].apply(lambda x: x.lower())\n",
    "header['MSQ'] = header['Question'].apply(lambda x: True if ' selected choice - ' in x else False)\n",
    "header['Topic'] = header['Question'].apply(lambda x: re.sub(r'(.*?) selected choice - ','',x))\n",
    "header['Category'] = header['qn_idx'].apply(lambda x: re.sub(r'\\_\\d+','',x)[1:] if x[0] == 'Q' else 1)\n",
    "header.Category = header.Category.astype(int)"
   ]
  },
  {
   "cell_type": "code",
   "execution_count": 5,
   "metadata": {},
   "outputs": [],
   "source": [
    "# REMOVE FIRST ROW \n",
    "df = df.iloc[1:,:]\n",
    "\n",
    "df.columns = header['Topic'].tolist()\n",
    "col_names = df.columns[5:]\n",
    "col_names = ['duration', 'age', 'gender', 'resident_country', 'is_student'] + col_names.tolist()\n",
    "df.columns = col_names"
   ]
  },
  {
   "cell_type": "code",
   "execution_count": 6,
   "metadata": {},
   "outputs": [],
   "source": [
    "is_msq = header['MSQ'].tolist()\n",
    "\n",
    "# Data Cleaning\n",
    "for col,e in enumerate(is_msq):\n",
    "    if e:\n",
    "        df.iloc[:,col] = df.iloc[:,col].apply(lambda x: 1 if x is not np.nan else 0)"
   ]
  },
  {
   "cell_type": "markdown",
   "metadata": {},
   "source": [
    "## 0.1 Data Visualization functions"
   ]
  },
  {
   "cell_type": "code",
   "execution_count": 7,
   "metadata": {},
   "outputs": [],
   "source": [
    "def show_factor_plot(df, X, Y, H, xlabel, ylabel, TITLE):\n",
    "    '''\n",
    "    displays multiple category bar plots\n",
    "    '''\n",
    "    ax = sns.factorplot(data=df,x=X, y=Y,hue=H,kind = 'bar', height = 4, aspect = 15/8)\n",
    "    ax = plt.gca()\n",
    "    for p in ax.patches:\n",
    "        ax.text(p.get_x() + p.get_width()/2., p.get_height(), '%.1f' % float(p.get_height()), \n",
    "                fontsize=8, color='black', ha='center', va='bottom')\n",
    "    plt.title(TITLE, fontsize=10)\n",
    "    plt.xticks(rotation = 0)\n",
    "    plt.xlabel(xlabel, fontsize=12)\n",
    "    plt.ylabel(ylabel, fontsize=12)\n",
    "    plt.show()\n",
    "\n",
    "def show_bar_plot(df, X, Y, xlabel, ylabel):\n",
    "    '''\n",
    "    displays bar plots\n",
    "    '''\n",
    "    plt.figure(figsize=(10,5))\n",
    "    ax = sns.barplot(data=df,x=X, y=Y)\n",
    "    ax.bar_label(ax.containers[0])\n",
    "    plt.title(TITLE, fontsize=15)\n",
    "    plt.xticks(rotation = 0)\n",
    "    plt.xlabel(xlabel, fontsize=12)\n",
    "    plt.ylabel(ylabel, fontsize=12)\n",
    "    plt.show()"
   ]
  },
  {
   "cell_type": "markdown",
   "metadata": {},
   "source": [
    "<a id='courses'></a>\n",
    "\n",
    "## 1. Top Data Science and Machine Learning Course Platforms"
   ]
  },
  {
   "cell_type": "code",
   "execution_count": 8,
   "metadata": {},
   "outputs": [],
   "source": [
    "CAT_SELECT = 6\n",
    "\n",
    "select_bool = np.array(header['Category']==CAT_SELECT)\n",
    "df_rpt = pd.concat([df.iloc[:,:4],df.iloc[:,select_bool]],axis=1)"
   ]
  },
  {
   "cell_type": "code",
   "execution_count": 9,
   "metadata": {},
   "outputs": [],
   "source": [
    "pop = df_rpt.groupby(['resident_country'])['resident_country'].count()"
   ]
  },
  {
   "cell_type": "code",
   "execution_count": 10,
   "metadata": {},
   "outputs": [
    {
     "data": {
      "image/png": "[encoded data removed]",
      "text/plain": [
       "<Figure size 720x360 with 1 Axes>"
      ]
     },
     "metadata": {
      "needs_background": "light"
     },
     "output_type": "display_data"
    }
   ],
   "source": [
    "TITLE = 'Top 5 course choices for learning Machine Learning and Data Science'\n",
    "groupDF = df_rpt.groupby(['resident_country']).sum().sum()\n",
    "groupDF = groupDF.T.rename({'university courses (resulting in a university degree)': 'university study'})\n",
    "groupDF = groupDF.sort_values(ascending=False).reset_index().head()\n",
    "\n",
    "show_bar_plot(groupDF, 'index', 0, 'Course', 'Number of Users')"
   ]
  },
  {
   "cell_type": "code",
   "execution_count": 11,
   "metadata": {},
   "outputs": [
    {
     "data": {
      "image/png": "[encoded data removed]",
      "text/plain": [
       "<Figure size 679.875x288 with 1 Axes>"
      ]
     },
     "metadata": {
      "needs_background": "light"
     },
     "output_type": "display_data"
    }
   ],
   "source": [
    "groupDF = df_rpt.groupby(['resident_country']).sum()\n",
    "groupDF = groupDF.sort_values(by = 'coursera', ascending = False).reset_index()\n",
    "\n",
    "TITLE = 'Number of users from top 5 countries who learn from Coursera over Kaggle Learn and Udemy'\n",
    "\n",
    "groupDF = groupDF[groupDF['resident_country'] != 'Other'].head(5)\n",
    "groupDF = pd.melt(groupDF, id_vars= ['resident_country'], \n",
    "                  value_vars = ['coursera','kaggle learn courses', 'udemy'],\n",
    "                 var_name ='Courses', value_name ='count')\n",
    "\n",
    "show_factor_plot(groupDF, 'resident_country','count', 'Courses','Country','Number of Users',TITLE)"
   ]
  },
  {
   "cell_type": "code",
   "execution_count": 12,
   "metadata": {},
   "outputs": [
    {
     "data": {
      "text/html": [
       "<div>\n",
       "<style scoped>\n",
       "    .dataframe tbody tr th:only-of-type {\n",
       "        vertical-align: middle;\n",
       "    }\n",
       "\n",
       "    .dataframe tbody tr th {\n",
       "        vertical-align: top;\n",
       "    }\n",
       "\n",
       "    .dataframe thead th {\n",
       "        text-align: right;\n",
       "    }\n",
       "</style>\n",
       "<table border=\"1\" class=\"dataframe\">\n",
       "  <thead>\n",
       "    <tr style=\"text-align: right;\">\n",
       "      <th></th>\n",
       "      <th>resident_country</th>\n",
       "      <th>coursera</th>\n",
       "      <th>edx</th>\n",
       "      <th>kaggle learn courses</th>\n",
       "      <th>datacamp</th>\n",
       "      <th>fast.ai</th>\n",
       "      <th>udacity</th>\n",
       "      <th>udemy</th>\n",
       "      <th>linkedin learning</th>\n",
       "      <th>cloud-certification programs (direct from aws, azure, gcp, or similar)</th>\n",
       "      <th>university courses (resulting in a university degree)</th>\n",
       "      <th>none</th>\n",
       "      <th>other</th>\n",
       "    </tr>\n",
       "  </thead>\n",
       "  <tbody>\n",
       "    <tr>\n",
       "      <th>45</th>\n",
       "      <td>India</td>\n",
       "      <td>34.952229</td>\n",
       "      <td>7.142857</td>\n",
       "      <td>24.988626</td>\n",
       "      <td>8.621474</td>\n",
       "      <td>2.888990</td>\n",
       "      <td>5.152411</td>\n",
       "      <td>25.534577</td>\n",
       "      <td>10.043221</td>\n",
       "      <td>6.585532</td>\n",
       "      <td>23.94222</td>\n",
       "      <td>12.659236</td>\n",
       "      <td>31.073703</td>\n",
       "    </tr>\n",
       "    <tr>\n",
       "      <th>54</th>\n",
       "      <td>China</td>\n",
       "      <td>28.256071</td>\n",
       "      <td>6.181015</td>\n",
       "      <td>30.684327</td>\n",
       "      <td>7.505519</td>\n",
       "      <td>4.856512</td>\n",
       "      <td>4.194260</td>\n",
       "      <td>2.869757</td>\n",
       "      <td>4.635762</td>\n",
       "      <td>3.532009</td>\n",
       "      <td>39.95585</td>\n",
       "      <td>15.452539</td>\n",
       "      <td>18.763797</td>\n",
       "    </tr>\n",
       "  </tbody>\n",
       "</table>\n",
       "</div>"
      ],
      "text/plain": [
       "   resident_country   coursera       edx  kaggle learn courses  datacamp  \\\n",
       "45            India  34.952229  7.142857             24.988626  8.621474   \n",
       "54            China  28.256071  6.181015             30.684327  7.505519   \n",
       "\n",
       "     fast.ai   udacity      udemy  linkedin learning  \\\n",
       "45  2.888990  5.152411  25.534577          10.043221   \n",
       "54  4.856512  4.194260   2.869757           4.635762   \n",
       "\n",
       "    cloud-certification programs (direct from aws, azure, gcp, or similar)  \\\n",
       "45                                           6.585532                        \n",
       "54                                           3.532009                        \n",
       "\n",
       "    university courses (resulting in a university degree)       none  \\\n",
       "45                                           23.94222      12.659236   \n",
       "54                                           39.95585      15.452539   \n",
       "\n",
       "        other  \n",
       "45  31.073703  \n",
       "54  18.763797  "
      ]
     },
     "execution_count": 12,
     "metadata": {},
     "output_type": "execute_result"
    }
   ],
   "source": [
    "groupDF = df_rpt.groupby(['resident_country']).sum()\n",
    "groupDF = groupDF.apply(lambda x: 100*x/pop).sort_values(by='coursera', ascending= False).reset_index()\n",
    "\n",
    "groupDF[(groupDF['resident_country'].isin(['India','China']))]"
   ]
  },
  {
   "cell_type": "code",
   "execution_count": 13,
   "metadata": {},
   "outputs": [
    {
     "data": {
      "image/png": "[encoded data removed]",
      "text/plain": [
       "<Figure size 679.875x288 with 1 Axes>"
      ]
     },
     "metadata": {
      "needs_background": "light"
     },
     "output_type": "display_data"
    }
   ],
   "source": [
    "groupDF = groupDF[groupDF['resident_country'] != 'Other'].head()\n",
    "\n",
    "TITLE = 'Percentage of users from top 5 countries who learn from Coursera over Kaggle Learn and Udemy'\n",
    "groupDF = pd.melt(groupDF, id_vars= ['resident_country'], \n",
    "                  value_vars = ['coursera','kaggle learn courses', 'udemy'],\n",
    "                 var_name ='Courses', value_name ='count')\n",
    "\n",
    "show_factor_plot(groupDF, 'resident_country','count', 'Courses','Country','% of users in given country',TITLE)"
   ]
  },
  {
   "cell_type": "markdown",
   "metadata": {},
   "source": [
    "<a id='languages'></a>\n",
    "## 2. Preferred Programming Language for Data Science"
   ]
  },
  {
   "cell_type": "code",
   "execution_count": 14,
   "metadata": {},
   "outputs": [],
   "source": [
    "popAge = df_rpt.groupby(['age'])['age'].count()"
   ]
  },
  {
   "cell_type": "code",
   "execution_count": 15,
   "metadata": {},
   "outputs": [],
   "source": [
    "CAT_SELECT = 12\n",
    "\n",
    "select_bool = np.array(header['Category']==CAT_SELECT)\n",
    "df_rpt = pd.concat([df.iloc[:,:4],df.iloc[:,select_bool]],axis=1)"
   ]
  },
  {
   "cell_type": "code",
   "execution_count": 16,
   "metadata": {
    "scrolled": true
   },
   "outputs": [
    {
     "data": {
      "image/png": "[encoded data removed]",
      "text/plain": [
       "<Figure size 720x360 with 1 Axes>"
      ]
     },
     "metadata": {
      "needs_background": "light"
     },
     "output_type": "display_data"
    }
   ],
   "source": [
    "TITLE = 'Top 5 programming languages regularly used in Data Science and Machine Learning'\n",
    "groupDF = df_rpt.groupby(['age']).sum().sum()\n",
    "groupDF = groupDF.sort_values(ascending=False).reset_index().head()\n",
    "\n",
    "show_bar_plot(groupDF, 'index', 0, 'Languages', 'Number of Users')"
   ]
  },
  {
   "cell_type": "code",
   "execution_count": 17,
   "metadata": {},
   "outputs": [
    {
     "data": {
      "image/png": "[encoded data removed]",
      "text/plain": [
       "<Figure size 610.75x288 with 1 Axes>"
      ]
     },
     "metadata": {
      "needs_background": "light"
     },
     "output_type": "display_data"
    }
   ],
   "source": [
    "groupDF = df_rpt.groupby(['age']).sum()\n",
    "groupDF = groupDF.sort_values(by = 'python', ascending = False).reset_index()\n",
    "\n",
    "TITLE = 'Number of users by age group who used Python regularly compared to SQL and R'\n",
    "\n",
    "groupDF = pd.melt(groupDF.head(), id_vars= ['age'], \n",
    "                  value_vars = ['python','sql', 'r'],\n",
    "                 var_name ='Languages', value_name ='count')\n",
    "\n",
    "show_factor_plot(groupDF, 'age', 'count', 'Languages','Age Group','Number of Users',TITLE)"
   ]
  },
  {
   "cell_type": "code",
   "execution_count": 18,
   "metadata": {
    "scrolled": true
   },
   "outputs": [
    {
     "data": {
      "image/png": "[encoded data removed]",
      "text/plain": [
       "<Figure size 610.75x288 with 1 Axes>"
      ]
     },
     "metadata": {
      "needs_background": "light"
     },
     "output_type": "display_data"
    }
   ],
   "source": [
    "groupDF = df_rpt.groupby(['age']).sum()\n",
    "groupDF = groupDF.apply(lambda x: 100*x/popAge).sort_values(by='python', ascending= False).reset_index()\n",
    "TITLE = 'Percentage of users by age group who use Python regularly compared over SQL and R'\n",
    "\n",
    "groupDF = pd.melt(groupDF.head(), id_vars= ['age'], \n",
    "                  value_vars = ['python','sql', 'r'],\n",
    "                 var_name ='Languages', value_name ='count')\n",
    "\n",
    "show_factor_plot(groupDF, 'age', 'count', 'Languages','Age Group','% of users in given age group',TITLE)"
   ]
  },
  {
   "cell_type": "markdown",
   "metadata": {},
   "source": [
    "<a id='framework'></a>\n",
    "## 3. Preferred Machine Learning Framework"
   ]
  },
  {
   "cell_type": "code",
   "execution_count": 19,
   "metadata": {},
   "outputs": [],
   "source": [
    "CAT_SELECT = 17\n",
    "\n",
    "df.rename(columns = {'for how many years have you been writing code and/or programming?':'yrs_code_exp'}, inplace=True)\n",
    "select_bool = np.array(header['Category']==CAT_SELECT)\n",
    "select_bool[df.columns.get_loc('yrs_code_exp')] = True\n",
    "df_rpt = pd.concat([df.iloc[:,:4],df.iloc[:,select_bool]],axis=1)\n",
    "\n",
    "popCodeExp = df_rpt.groupby(['yrs_code_exp'])['yrs_code_exp'].count()"
   ]
  },
  {
   "cell_type": "code",
   "execution_count": 20,
   "metadata": {},
   "outputs": [
    {
     "data": {
      "image/png": "[encoded data removed]",
      "text/plain": [
       "<Figure size 720x360 with 1 Axes>"
      ]
     },
     "metadata": {
      "needs_background": "light"
     },
     "output_type": "display_data"
    }
   ],
   "source": [
    "TITLE = 'Top 5 machine learning regularly used in Data Science'\n",
    "groupDF = df_rpt.groupby(['yrs_code_exp']).sum().sum()\n",
    "groupDF = groupDF.sort_values(ascending=False).reset_index().head()\n",
    "\n",
    "show_bar_plot(groupDF, 'index', 0, 'ML Frameworks', 'Number of Users')"
   ]
  },
  {
   "cell_type": "code",
   "execution_count": 21,
   "metadata": {},
   "outputs": [
    {
     "data": {
      "text/html": [
       "<div>\n",
       "<style scoped>\n",
       "    .dataframe tbody tr th:only-of-type {\n",
       "        vertical-align: middle;\n",
       "    }\n",
       "\n",
       "    .dataframe tbody tr th {\n",
       "        vertical-align: top;\n",
       "    }\n",
       "\n",
       "    .dataframe thead th {\n",
       "        text-align: right;\n",
       "    }\n",
       "</style>\n",
       "<table border=\"1\" class=\"dataframe\">\n",
       "  <thead>\n",
       "    <tr style=\"text-align: right;\">\n",
       "      <th></th>\n",
       "      <th>yrs_code_exp</th>\n",
       "      <th>scikit-learn</th>\n",
       "      <th>tensorflow</th>\n",
       "      <th>keras</th>\n",
       "      <th>pytorch</th>\n",
       "      <th>fast.ai</th>\n",
       "      <th>xgboost</th>\n",
       "      <th>lightgbm</th>\n",
       "      <th>catboost</th>\n",
       "      <th>caret</th>\n",
       "      <th>tidymodels</th>\n",
       "      <th>jax</th>\n",
       "      <th>pytorchlightning</th>\n",
       "      <th>huggingface</th>\n",
       "      <th>none</th>\n",
       "      <th>other</th>\n",
       "    </tr>\n",
       "  </thead>\n",
       "  <tbody>\n",
       "    <tr>\n",
       "      <th>1</th>\n",
       "      <td>3-5 years</td>\n",
       "      <td>2198</td>\n",
       "      <td>1582</td>\n",
       "      <td>1368</td>\n",
       "      <td>1083</td>\n",
       "      <td>142</td>\n",
       "      <td>954</td>\n",
       "      <td>433</td>\n",
       "      <td>276</td>\n",
       "      <td>165</td>\n",
       "      <td>108</td>\n",
       "      <td>52</td>\n",
       "      <td>225</td>\n",
       "      <td>320</td>\n",
       "      <td>185</td>\n",
       "      <td>80</td>\n",
       "    </tr>\n",
       "    <tr>\n",
       "      <th>2</th>\n",
       "      <td>&lt; 1 years</td>\n",
       "      <td>1934</td>\n",
       "      <td>1165</td>\n",
       "      <td>838</td>\n",
       "      <td>603</td>\n",
       "      <td>66</td>\n",
       "      <td>573</td>\n",
       "      <td>174</td>\n",
       "      <td>138</td>\n",
       "      <td>85</td>\n",
       "      <td>67</td>\n",
       "      <td>39</td>\n",
       "      <td>126</td>\n",
       "      <td>64</td>\n",
       "      <td>638</td>\n",
       "      <td>136</td>\n",
       "    </tr>\n",
       "    <tr>\n",
       "      <th>3</th>\n",
       "      <td>5-10 years</td>\n",
       "      <td>1652</td>\n",
       "      <td>1162</td>\n",
       "      <td>1008</td>\n",
       "      <td>890</td>\n",
       "      <td>100</td>\n",
       "      <td>737</td>\n",
       "      <td>390</td>\n",
       "      <td>195</td>\n",
       "      <td>172</td>\n",
       "      <td>120</td>\n",
       "      <td>48</td>\n",
       "      <td>182</td>\n",
       "      <td>290</td>\n",
       "      <td>135</td>\n",
       "      <td>71</td>\n",
       "    </tr>\n",
       "    <tr>\n",
       "      <th>4</th>\n",
       "      <td>10-20 years</td>\n",
       "      <td>1119</td>\n",
       "      <td>786</td>\n",
       "      <td>698</td>\n",
       "      <td>582</td>\n",
       "      <td>79</td>\n",
       "      <td>532</td>\n",
       "      <td>264</td>\n",
       "      <td>140</td>\n",
       "      <td>99</td>\n",
       "      <td>66</td>\n",
       "      <td>27</td>\n",
       "      <td>117</td>\n",
       "      <td>198</td>\n",
       "      <td>115</td>\n",
       "      <td>75</td>\n",
       "    </tr>\n",
       "    <tr>\n",
       "      <th>5</th>\n",
       "      <td>20+ years</td>\n",
       "      <td>941</td>\n",
       "      <td>725</td>\n",
       "      <td>619</td>\n",
       "      <td>540</td>\n",
       "      <td>95</td>\n",
       "      <td>439</td>\n",
       "      <td>212</td>\n",
       "      <td>102</td>\n",
       "      <td>109</td>\n",
       "      <td>57</td>\n",
       "      <td>30</td>\n",
       "      <td>97</td>\n",
       "      <td>156</td>\n",
       "      <td>116</td>\n",
       "      <td>102</td>\n",
       "    </tr>\n",
       "    <tr>\n",
       "      <th>6</th>\n",
       "      <td>I have never written code</td>\n",
       "      <td>0</td>\n",
       "      <td>0</td>\n",
       "      <td>0</td>\n",
       "      <td>0</td>\n",
       "      <td>0</td>\n",
       "      <td>0</td>\n",
       "      <td>0</td>\n",
       "      <td>0</td>\n",
       "      <td>0</td>\n",
       "      <td>0</td>\n",
       "      <td>0</td>\n",
       "      <td>0</td>\n",
       "      <td>0</td>\n",
       "      <td>0</td>\n",
       "      <td>0</td>\n",
       "    </tr>\n",
       "  </tbody>\n",
       "</table>\n",
       "</div>"
      ],
      "text/plain": [
       "                yrs_code_exp  scikit-learn  tensorflow  keras  pytorch  \\\n",
       "1                  3-5 years          2198        1582   1368     1083   \n",
       "2                  < 1 years          1934        1165    838      603   \n",
       "3                 5-10 years          1652        1162   1008      890   \n",
       "4                10-20 years          1119         786    698      582   \n",
       "5                  20+ years           941         725    619      540   \n",
       "6  I have never written code             0           0      0        0   \n",
       "\n",
       "   fast.ai  xgboost  lightgbm  catboost  caret  tidymodels  jax  \\\n",
       "1      142      954       433       276    165         108   52   \n",
       "2       66      573       174       138     85          67   39   \n",
       "3      100      737       390       195    172         120   48   \n",
       "4       79      532       264       140     99          66   27   \n",
       "5       95      439       212       102    109          57   30   \n",
       "6        0        0         0         0      0           0    0   \n",
       "\n",
       "   pytorchlightning  huggingface  none  other  \n",
       "1               225          320   185     80  \n",
       "2               126           64   638    136  \n",
       "3               182          290   135     71  \n",
       "4               117          198   115     75  \n",
       "5                97          156   116    102  \n",
       "6                 0            0     0      0  "
      ]
     },
     "execution_count": 21,
     "metadata": {},
     "output_type": "execute_result"
    }
   ],
   "source": [
    "groupDF = df_rpt.groupby(['yrs_code_exp']).sum()\n",
    "groupDF.columns = groupDF.columns.str.replace('\\s','')\n",
    "groupDF = groupDF.sort_values(by = 'scikit-learn', ascending = False).reset_index()\n",
    "# groupDF = groupDF.reset_index()\n",
    "groupDF.iloc[1:,:]"
   ]
  },
  {
   "cell_type": "code",
   "execution_count": 22,
   "metadata": {},
   "outputs": [
    {
     "name": "stdout",
     "output_type": "stream",
     "text": [
      "**************************************************************************************************************\n",
      "Table Summary of total users with given years of coding experience who have used machine learning frameworks\n",
      "**************************************************************************************************************\n"
     ]
    },
    {
     "data": {
      "text/html": [
       "<div>\n",
       "<style scoped>\n",
       "    .dataframe tbody tr th:only-of-type {\n",
       "        vertical-align: middle;\n",
       "    }\n",
       "\n",
       "    .dataframe tbody tr th {\n",
       "        vertical-align: top;\n",
       "    }\n",
       "\n",
       "    .dataframe thead th {\n",
       "        text-align: right;\n",
       "    }\n",
       "</style>\n",
       "<table border=\"1\" class=\"dataframe\">\n",
       "  <thead>\n",
       "    <tr style=\"text-align: right;\">\n",
       "      <th>yrs_code_exp</th>\n",
       "      <th>1-3 years</th>\n",
       "      <th>10-20 years</th>\n",
       "      <th>20+ years</th>\n",
       "      <th>3-5 years</th>\n",
       "      <th>5-10 years</th>\n",
       "      <th>&lt; 1 years</th>\n",
       "      <th>I have never written code</th>\n",
       "    </tr>\n",
       "  </thead>\n",
       "  <tbody>\n",
       "    <tr>\n",
       "      <th>total participants</th>\n",
       "      <td>6459</td>\n",
       "      <td>1801</td>\n",
       "      <td>1537</td>\n",
       "      <td>3399</td>\n",
       "      <td>2556</td>\n",
       "      <td>5454</td>\n",
       "      <td>2037</td>\n",
       "    </tr>\n",
       "    <tr>\n",
       "      <th>scikit-learn</th>\n",
       "      <td>3559</td>\n",
       "      <td>1119</td>\n",
       "      <td>941</td>\n",
       "      <td>2198</td>\n",
       "      <td>1652</td>\n",
       "      <td>1934</td>\n",
       "      <td>0</td>\n",
       "    </tr>\n",
       "    <tr>\n",
       "      <th>tensorflow</th>\n",
       "      <td>2533</td>\n",
       "      <td>786</td>\n",
       "      <td>725</td>\n",
       "      <td>1582</td>\n",
       "      <td>1162</td>\n",
       "      <td>1165</td>\n",
       "      <td>0</td>\n",
       "    </tr>\n",
       "    <tr>\n",
       "      <th>keras</th>\n",
       "      <td>2044</td>\n",
       "      <td>698</td>\n",
       "      <td>619</td>\n",
       "      <td>1368</td>\n",
       "      <td>1008</td>\n",
       "      <td>838</td>\n",
       "      <td>0</td>\n",
       "    </tr>\n",
       "    <tr>\n",
       "      <th>pytorch</th>\n",
       "      <td>1493</td>\n",
       "      <td>582</td>\n",
       "      <td>540</td>\n",
       "      <td>1083</td>\n",
       "      <td>890</td>\n",
       "      <td>603</td>\n",
       "      <td>0</td>\n",
       "    </tr>\n",
       "    <tr>\n",
       "      <th>fast.ai</th>\n",
       "      <td>166</td>\n",
       "      <td>79</td>\n",
       "      <td>95</td>\n",
       "      <td>142</td>\n",
       "      <td>100</td>\n",
       "      <td>66</td>\n",
       "      <td>0</td>\n",
       "    </tr>\n",
       "    <tr>\n",
       "      <th>xgboost</th>\n",
       "      <td>1242</td>\n",
       "      <td>532</td>\n",
       "      <td>439</td>\n",
       "      <td>954</td>\n",
       "      <td>737</td>\n",
       "      <td>573</td>\n",
       "      <td>0</td>\n",
       "    </tr>\n",
       "    <tr>\n",
       "      <th>lightgbm</th>\n",
       "      <td>467</td>\n",
       "      <td>264</td>\n",
       "      <td>212</td>\n",
       "      <td>433</td>\n",
       "      <td>390</td>\n",
       "      <td>174</td>\n",
       "      <td>0</td>\n",
       "    </tr>\n",
       "    <tr>\n",
       "      <th>catboost</th>\n",
       "      <td>314</td>\n",
       "      <td>140</td>\n",
       "      <td>102</td>\n",
       "      <td>276</td>\n",
       "      <td>195</td>\n",
       "      <td>138</td>\n",
       "      <td>0</td>\n",
       "    </tr>\n",
       "    <tr>\n",
       "      <th>caret</th>\n",
       "      <td>191</td>\n",
       "      <td>99</td>\n",
       "      <td>109</td>\n",
       "      <td>165</td>\n",
       "      <td>172</td>\n",
       "      <td>85</td>\n",
       "      <td>0</td>\n",
       "    </tr>\n",
       "    <tr>\n",
       "      <th>tidymodels</th>\n",
       "      <td>129</td>\n",
       "      <td>66</td>\n",
       "      <td>57</td>\n",
       "      <td>108</td>\n",
       "      <td>120</td>\n",
       "      <td>67</td>\n",
       "      <td>0</td>\n",
       "    </tr>\n",
       "    <tr>\n",
       "      <th>jax</th>\n",
       "      <td>56</td>\n",
       "      <td>27</td>\n",
       "      <td>30</td>\n",
       "      <td>52</td>\n",
       "      <td>48</td>\n",
       "      <td>39</td>\n",
       "      <td>0</td>\n",
       "    </tr>\n",
       "    <tr>\n",
       "      <th>pytorchlightning</th>\n",
       "      <td>266</td>\n",
       "      <td>117</td>\n",
       "      <td>97</td>\n",
       "      <td>225</td>\n",
       "      <td>182</td>\n",
       "      <td>126</td>\n",
       "      <td>0</td>\n",
       "    </tr>\n",
       "    <tr>\n",
       "      <th>huggingface</th>\n",
       "      <td>304</td>\n",
       "      <td>198</td>\n",
       "      <td>156</td>\n",
       "      <td>320</td>\n",
       "      <td>290</td>\n",
       "      <td>64</td>\n",
       "      <td>0</td>\n",
       "    </tr>\n",
       "    <tr>\n",
       "      <th>none</th>\n",
       "      <td>520</td>\n",
       "      <td>115</td>\n",
       "      <td>116</td>\n",
       "      <td>185</td>\n",
       "      <td>135</td>\n",
       "      <td>638</td>\n",
       "      <td>0</td>\n",
       "    </tr>\n",
       "    <tr>\n",
       "      <th>other</th>\n",
       "      <td>156</td>\n",
       "      <td>75</td>\n",
       "      <td>102</td>\n",
       "      <td>80</td>\n",
       "      <td>71</td>\n",
       "      <td>136</td>\n",
       "      <td>0</td>\n",
       "    </tr>\n",
       "  </tbody>\n",
       "</table>\n",
       "</div>"
      ],
      "text/plain": [
       "yrs_code_exp        1-3 years  10-20 years  20+ years  3-5 years  5-10 years  \\\n",
       "total participants       6459         1801       1537       3399        2556   \n",
       "scikit-learn             3559         1119        941       2198        1652   \n",
       "tensorflow               2533          786        725       1582        1162   \n",
       "keras                    2044          698        619       1368        1008   \n",
       "pytorch                  1493          582        540       1083         890   \n",
       "fast.ai                   166           79         95        142         100   \n",
       "xgboost                  1242          532        439        954         737   \n",
       "lightgbm                  467          264        212        433         390   \n",
       "catboost                  314          140        102        276         195   \n",
       "caret                     191           99        109        165         172   \n",
       "tidymodels                129           66         57        108         120   \n",
       "jax                        56           27         30         52          48   \n",
       "pytorchlightning          266          117         97        225         182   \n",
       "huggingface               304          198        156        320         290   \n",
       "none                      520          115        116        185         135   \n",
       "other                     156           75        102         80          71   \n",
       "\n",
       "yrs_code_exp        < 1 years  I have never written code  \n",
       "total participants       5454                       2037  \n",
       "scikit-learn             1934                          0  \n",
       "tensorflow               1165                          0  \n",
       "keras                     838                          0  \n",
       "pytorch                   603                          0  \n",
       "fast.ai                    66                          0  \n",
       "xgboost                   573                          0  \n",
       "lightgbm                  174                          0  \n",
       "catboost                  138                          0  \n",
       "caret                      85                          0  \n",
       "tidymodels                 67                          0  \n",
       "jax                        39                          0  \n",
       "pytorchlightning          126                          0  \n",
       "huggingface                64                          0  \n",
       "none                      638                          0  \n",
       "other                     136                          0  "
      ]
     },
     "execution_count": 22,
     "metadata": {},
     "output_type": "execute_result"
    }
   ],
   "source": [
    "print('*'*110)\n",
    "print('Table Summary of total users with given years of coding experience who have used machine learning frameworks')\n",
    "print('*'*110)\n",
    "\n",
    "# Note that rows will not sum up to the total because every participant can choose more than 1 ML framework which they use regularly\n",
    "\n",
    "pd.concat([pd.DataFrame(popCodeExp).rename(columns={'yrs_code_exp':'total participants'}).T,groupDF.set_index('yrs_code_exp').T])"
   ]
  },
  {
   "cell_type": "code",
   "execution_count": 23,
   "metadata": {},
   "outputs": [
    {
     "data": {
      "image/png": "[encoded data removed]",
      "text/plain": [
       "<Figure size 631.25x288 with 1 Axes>"
      ]
     },
     "metadata": {
      "needs_background": "light"
     },
     "output_type": "display_data"
    }
   ],
   "source": [
    "TITLE = 'Number of users with coding experience who use Scikit-Learn regularly over Tensorflow and XGBoost'\n",
    "\n",
    "groupDF = pd.melt(groupDF.head(6), id_vars= ['yrs_code_exp'], \n",
    "                  value_vars = ['scikit-learn','tensorflow', 'pytorch', 'xgboost'],\n",
    "                 var_name ='ML Framework', value_name ='count')\n",
    "\n",
    "show_factor_plot(groupDF, 'yrs_code_exp', 'count', 'ML Framework','Years of coding experience',\n",
    "                 'Number of Users', TITLE)"
   ]
  },
  {
   "cell_type": "code",
   "execution_count": 24,
   "metadata": {},
   "outputs": [
    {
     "data": {
      "text/html": [
       "<div>\n",
       "<style scoped>\n",
       "    .dataframe tbody tr th:only-of-type {\n",
       "        vertical-align: middle;\n",
       "    }\n",
       "\n",
       "    .dataframe tbody tr th {\n",
       "        vertical-align: top;\n",
       "    }\n",
       "\n",
       "    .dataframe thead th {\n",
       "        text-align: right;\n",
       "    }\n",
       "</style>\n",
       "<table border=\"1\" class=\"dataframe\">\n",
       "  <thead>\n",
       "    <tr style=\"text-align: right;\">\n",
       "      <th></th>\n",
       "      <th>yrs_code_exp</th>\n",
       "      <th>scikit-learn</th>\n",
       "      <th>tensorflow</th>\n",
       "      <th>pytorch</th>\n",
       "      <th>xgboost</th>\n",
       "    </tr>\n",
       "  </thead>\n",
       "  <tbody>\n",
       "    <tr>\n",
       "      <th>0</th>\n",
       "      <td>3-5 years</td>\n",
       "      <td>64.666078</td>\n",
       "      <td>46.543101</td>\n",
       "      <td>31.862312</td>\n",
       "      <td>28.067079</td>\n",
       "    </tr>\n",
       "    <tr>\n",
       "      <th>1</th>\n",
       "      <td>5-10 years</td>\n",
       "      <td>64.632238</td>\n",
       "      <td>45.461659</td>\n",
       "      <td>34.820031</td>\n",
       "      <td>28.834116</td>\n",
       "    </tr>\n",
       "    <tr>\n",
       "      <th>2</th>\n",
       "      <td>10-20 years</td>\n",
       "      <td>62.132149</td>\n",
       "      <td>43.642421</td>\n",
       "      <td>32.315380</td>\n",
       "      <td>29.539145</td>\n",
       "    </tr>\n",
       "    <tr>\n",
       "      <th>3</th>\n",
       "      <td>20+ years</td>\n",
       "      <td>61.223162</td>\n",
       "      <td>47.169811</td>\n",
       "      <td>35.133377</td>\n",
       "      <td>28.562134</td>\n",
       "    </tr>\n",
       "    <tr>\n",
       "      <th>4</th>\n",
       "      <td>1-3 years</td>\n",
       "      <td>55.101409</td>\n",
       "      <td>39.216597</td>\n",
       "      <td>23.115033</td>\n",
       "      <td>19.228983</td>\n",
       "    </tr>\n",
       "    <tr>\n",
       "      <th>5</th>\n",
       "      <td>&lt; 1 years</td>\n",
       "      <td>35.460213</td>\n",
       "      <td>21.360469</td>\n",
       "      <td>11.056106</td>\n",
       "      <td>10.506051</td>\n",
       "    </tr>\n",
       "    <tr>\n",
       "      <th>6</th>\n",
       "      <td>I have never written code</td>\n",
       "      <td>0.000000</td>\n",
       "      <td>0.000000</td>\n",
       "      <td>0.000000</td>\n",
       "      <td>0.000000</td>\n",
       "    </tr>\n",
       "  </tbody>\n",
       "</table>\n",
       "</div>"
      ],
      "text/plain": [
       "                yrs_code_exp  scikit-learn  tensorflow    pytorch    xgboost\n",
       "0                  3-5 years     64.666078   46.543101  31.862312  28.067079\n",
       "1                 5-10 years     64.632238   45.461659  34.820031  28.834116\n",
       "2                10-20 years     62.132149   43.642421  32.315380  29.539145\n",
       "3                  20+ years     61.223162   47.169811  35.133377  28.562134\n",
       "4                  1-3 years     55.101409   39.216597  23.115033  19.228983\n",
       "5                  < 1 years     35.460213   21.360469  11.056106  10.506051\n",
       "6  I have never written code      0.000000    0.000000   0.000000   0.000000"
      ]
     },
     "execution_count": 24,
     "metadata": {},
     "output_type": "execute_result"
    }
   ],
   "source": [
    "groupDF = df_rpt.groupby(['yrs_code_exp']).sum()\n",
    "groupDF.columns = groupDF.columns.str.replace(' ','')\n",
    "groupDF = groupDF.apply(lambda x: 100*x/popCodeExp).sort_values(by='scikit-learn', ascending= False).reset_index()\n",
    "\n",
    "groupDF[['yrs_code_exp','scikit-learn','tensorflow','pytorch','xgboost']].sort_values(by='scikit-learn', ascending=False)"
   ]
  },
  {
   "cell_type": "code",
   "execution_count": 25,
   "metadata": {
    "scrolled": true
   },
   "outputs": [
    {
     "data": {
      "image/png": "[encoded data removed]",
      "text/plain": [
       "<Figure size 631.25x288 with 1 Axes>"
      ]
     },
     "metadata": {
      "needs_background": "light"
     },
     "output_type": "display_data"
    }
   ],
   "source": [
    "TITLE = 'Percentage of users with coding experience who use Scikit-Learn regularly over Tensorflow and XGBoost'\n",
    "groupDF = pd.melt(groupDF.head(6), id_vars= ['yrs_code_exp'], \n",
    "                  value_vars = ['scikit-learn','tensorflow', 'pytorch', 'xgboost','none'],\n",
    "                 var_name ='ML Framework', value_name ='count')\n",
    "\n",
    "show_factor_plot(groupDF, 'yrs_code_exp', 'count', 'ML Framework','Years of coding Experience',\n",
    "                 '% of Users', TITLE)"
   ]
  },
  {
   "cell_type": "markdown",
   "metadata": {},
   "source": [
    "<a id='production'></a>\n",
    "## 4. Deploying machine learning models at work"
   ]
  },
  {
   "cell_type": "code",
   "execution_count": 26,
   "metadata": {},
   "outputs": [],
   "source": [
    "CAT_SELECT = [12,27] # created a list, so that you can add new question categories to perform group-by summary\n",
    "\n",
    "df.rename(columns = \n",
    "          {'does your current employer incorporate machine learning methods into their business?':'q27'}\n",
    "         , inplace=True)\n",
    "select_bool = np.array(header['Category'].isin(CAT_SELECT))\n",
    "select_bool[df.columns.get_loc('yrs_code_exp')] = True\n",
    "df_rpt = pd.concat([df.iloc[:,:4],df.iloc[:,select_bool]],axis=1)\n",
    "\n",
    "df_rpt.rename(columns={'none':'q12_none', 'other':'q12_other'}, inplace=True)\n",
    "CAT_SELECT = [17]\n",
    "select_bool = np.array(header['Category'].isin(CAT_SELECT))\n",
    "df_rpt = pd.concat([df_rpt,df.iloc[:,select_bool]],axis=1)\n",
    "\n",
    "col_names =[str(n).rstrip().lstrip() for n in df_rpt.columns]\n",
    "df_rpt.columns=col_names\n",
    "del col_names"
   ]
  },
  {
   "cell_type": "code",
   "execution_count": 27,
   "metadata": {},
   "outputs": [
    {
     "data": {
      "text/plain": [
       "{'No answer': 1,\n",
       " '(i.e., models in production for less than 2 years)': 2,\n",
       " '(i.e., models in production for more than 2 years)': 3,\n",
       " '(and may one day put a model into production)': 4,\n",
       " 'I do not know': 5,\n",
       " '(but do not put working models into production)': 6,\n",
       " '(we do not use ML methods)': 7}"
      ]
     },
     "execution_count": 27,
     "metadata": {},
     "output_type": "execute_result"
    }
   ],
   "source": [
    "## Data cleaning of question 27\n",
    "\n",
    "# Replace NaN values with 'No answer'\n",
    "df_rpt['q27'] = df_rpt['q27'].fillna('No answer')\n",
    "\n",
    "# search content in parenthesis, if no parenthesis, return original answer string\n",
    "df_rpt['q27'] = df_rpt['q27'].apply(lambda x: re.search('\\((.+?)\\)', str(x)).group(0) \n",
    "                                    if re.search('\\(.+?\\)', str(x)) is not None else str(x))\n",
    "\n",
    "cat_keys = df_rpt['q27'].unique().tolist()\n",
    "# Assign numeric categories to answers - zip two equal length lists into a dictionary\n",
    "cat_dict = dict(zip(cat_keys,list(range(1,8)))) \n",
    "\n",
    "df_rpt['q27'] = df_rpt['q27'].apply(lambda x: cat_dict.get(x))\n",
    "cat_dict"
   ]
  },
  {
   "cell_type": "code",
   "execution_count": 28,
   "metadata": {},
   "outputs": [],
   "source": [
    "df_rpt = pd.concat([df_rpt,pd.get_dummies(df_rpt['q27'], prefix='q27')],axis=1)"
   ]
  },
  {
   "cell_type": "markdown",
   "metadata": {},
   "source": [
    "### 4.1 Popular languages used by coders who deploy ML models at work"
   ]
  },
  {
   "cell_type": "code",
   "execution_count": 29,
   "metadata": {},
   "outputs": [
    {
     "data": {
      "text/plain": [
       "yrs_code_exp\n",
       "1-3 years                    6459\n",
       "10-20 years                  1801\n",
       "20+ years                    1537\n",
       "3-5 years                    3399\n",
       "5-10 years                   2556\n",
       "< 1 years                    5454\n",
       "I have never written code    2037\n",
       "Name: yrs_code_exp, dtype: int64"
      ]
     },
     "execution_count": 29,
     "metadata": {},
     "output_type": "execute_result"
    }
   ],
   "source": [
    "popCodeExp\n",
    "\n",
    "# Note that percentage in this section will not add up because number of respondents polled in each\n",
    "# coding experience category varies from one to another. For example, one person from 1-3 years \n",
    "# contributes 1/6459 = .015% whereas one person from 20+ years category 1/1537 =  0.06%, \n",
    "# which is a 4 fold increase."
   ]
  },
  {
   "cell_type": "code",
   "execution_count": 30,
   "metadata": {
    "scrolled": true
   },
   "outputs": [
    {
     "data": {
      "text/html": [
       "<div>\n",
       "<style scoped>\n",
       "    .dataframe tbody tr th:only-of-type {\n",
       "        vertical-align: middle;\n",
       "    }\n",
       "\n",
       "    .dataframe tbody tr th {\n",
       "        vertical-align: top;\n",
       "    }\n",
       "\n",
       "    .dataframe thead th {\n",
       "        text-align: right;\n",
       "    }\n",
       "</style>\n",
       "<table border=\"1\" class=\"dataframe\">\n",
       "  <thead>\n",
       "    <tr style=\"text-align: right;\">\n",
       "      <th></th>\n",
       "      <th>yrs_code_exp</th>\n",
       "      <th>python</th>\n",
       "      <th>q27_2</th>\n",
       "      <th>q27_3</th>\n",
       "      <th>q27_6</th>\n",
       "      <th>q27_7</th>\n",
       "    </tr>\n",
       "  </thead>\n",
       "  <tbody>\n",
       "    <tr>\n",
       "      <th>3</th>\n",
       "      <td>10-20 years</td>\n",
       "      <td>Python</td>\n",
       "      <td>11.160466</td>\n",
       "      <td>17.823431</td>\n",
       "      <td>6.607440</td>\n",
       "      <td>8.550805</td>\n",
       "    </tr>\n",
       "    <tr>\n",
       "      <th>9</th>\n",
       "      <td>5-10 years</td>\n",
       "      <td>Python</td>\n",
       "      <td>9.976526</td>\n",
       "      <td>16.549296</td>\n",
       "      <td>6.064163</td>\n",
       "      <td>6.846635</td>\n",
       "    </tr>\n",
       "    <tr>\n",
       "      <th>5</th>\n",
       "      <td>20+ years</td>\n",
       "      <td>Python</td>\n",
       "      <td>8.262850</td>\n",
       "      <td>19.843852</td>\n",
       "      <td>6.506181</td>\n",
       "      <td>11.125569</td>\n",
       "    </tr>\n",
       "    <tr>\n",
       "      <th>7</th>\n",
       "      <td>3-5 years</td>\n",
       "      <td>Python</td>\n",
       "      <td>6.972639</td>\n",
       "      <td>8.649603</td>\n",
       "      <td>4.471904</td>\n",
       "      <td>5.560459</td>\n",
       "    </tr>\n",
       "    <tr>\n",
       "      <th>1</th>\n",
       "      <td>1-3 years</td>\n",
       "      <td>Python</td>\n",
       "      <td>3.390618</td>\n",
       "      <td>3.297724</td>\n",
       "      <td>3.096455</td>\n",
       "      <td>5.078185</td>\n",
       "    </tr>\n",
       "    <tr>\n",
       "      <th>12</th>\n",
       "      <td>I have never written code</td>\n",
       "      <td>No Python</td>\n",
       "      <td>1.718213</td>\n",
       "      <td>1.865488</td>\n",
       "      <td>1.325479</td>\n",
       "      <td>13.696613</td>\n",
       "    </tr>\n",
       "    <tr>\n",
       "      <th>11</th>\n",
       "      <td>&lt; 1 years</td>\n",
       "      <td>Python</td>\n",
       "      <td>1.265127</td>\n",
       "      <td>1.045105</td>\n",
       "      <td>1.448478</td>\n",
       "      <td>6.472314</td>\n",
       "    </tr>\n",
       "    <tr>\n",
       "      <th>4</th>\n",
       "      <td>20+ years</td>\n",
       "      <td>No Python</td>\n",
       "      <td>0.780742</td>\n",
       "      <td>1.496422</td>\n",
       "      <td>0.910865</td>\n",
       "      <td>2.472349</td>\n",
       "    </tr>\n",
       "    <tr>\n",
       "      <th>2</th>\n",
       "      <td>10-20 years</td>\n",
       "      <td>No Python</td>\n",
       "      <td>0.721821</td>\n",
       "      <td>1.943365</td>\n",
       "      <td>0.721821</td>\n",
       "      <td>1.665741</td>\n",
       "    </tr>\n",
       "    <tr>\n",
       "      <th>8</th>\n",
       "      <td>5-10 years</td>\n",
       "      <td>No Python</td>\n",
       "      <td>0.430360</td>\n",
       "      <td>0.821596</td>\n",
       "      <td>0.821596</td>\n",
       "      <td>1.917058</td>\n",
       "    </tr>\n",
       "    <tr>\n",
       "      <th>6</th>\n",
       "      <td>3-5 years</td>\n",
       "      <td>No Python</td>\n",
       "      <td>0.294204</td>\n",
       "      <td>0.500147</td>\n",
       "      <td>0.500147</td>\n",
       "      <td>1.206237</td>\n",
       "    </tr>\n",
       "    <tr>\n",
       "      <th>0</th>\n",
       "      <td>1-3 years</td>\n",
       "      <td>No Python</td>\n",
       "      <td>0.247716</td>\n",
       "      <td>0.247716</td>\n",
       "      <td>0.154823</td>\n",
       "      <td>0.681220</td>\n",
       "    </tr>\n",
       "    <tr>\n",
       "      <th>10</th>\n",
       "      <td>&lt; 1 years</td>\n",
       "      <td>No Python</td>\n",
       "      <td>0.073341</td>\n",
       "      <td>0.275028</td>\n",
       "      <td>0.330033</td>\n",
       "      <td>2.181885</td>\n",
       "    </tr>\n",
       "  </tbody>\n",
       "</table>\n",
       "</div>"
      ],
      "text/plain": [
       "                 yrs_code_exp     python      q27_2      q27_3     q27_6  \\\n",
       "3                 10-20 years     Python  11.160466  17.823431  6.607440   \n",
       "9                  5-10 years     Python   9.976526  16.549296  6.064163   \n",
       "5                   20+ years     Python   8.262850  19.843852  6.506181   \n",
       "7                   3-5 years     Python   6.972639   8.649603  4.471904   \n",
       "1                   1-3 years     Python   3.390618   3.297724  3.096455   \n",
       "12  I have never written code  No Python   1.718213   1.865488  1.325479   \n",
       "11                  < 1 years     Python   1.265127   1.045105  1.448478   \n",
       "4                   20+ years  No Python   0.780742   1.496422  0.910865   \n",
       "2                 10-20 years  No Python   0.721821   1.943365  0.721821   \n",
       "8                  5-10 years  No Python   0.430360   0.821596  0.821596   \n",
       "6                   3-5 years  No Python   0.294204   0.500147  0.500147   \n",
       "0                   1-3 years  No Python   0.247716   0.247716  0.154823   \n",
       "10                  < 1 years  No Python   0.073341   0.275028  0.330033   \n",
       "\n",
       "        q27_7  \n",
       "3    8.550805  \n",
       "9    6.846635  \n",
       "5   11.125569  \n",
       "7    5.560459  \n",
       "1    5.078185  \n",
       "12  13.696613  \n",
       "11   6.472314  \n",
       "4    2.472349  \n",
       "2    1.665741  \n",
       "8    1.917058  \n",
       "6    1.206237  \n",
       "0    0.681220  \n",
       "10   2.181885  "
      ]
     },
     "execution_count": 30,
     "metadata": {},
     "output_type": "execute_result"
    }
   ],
   "source": [
    "groupDF = df_rpt.groupby(['yrs_code_exp','python']).sum()\n",
    "groupDF = groupDF.apply(lambda x: 100*x/popCodeExp).reset_index()\n",
    "\n",
    "pyexp_dict = {0: 'No Python', 1: 'Python'}\n",
    "groupDF['python'] = groupDF['python'].apply(lambda x: pyexp_dict.get(x))\n",
    "groupDF = groupDF[['yrs_code_exp','python','q27_2','q27_3','q27_6','q27_7']].sort_values(by='q27_2',ascending=False)\n",
    "\n",
    "groupDF"
   ]
  },
  {
   "cell_type": "code",
   "execution_count": 31,
   "metadata": {},
   "outputs": [
    {
     "data": {
      "text/html": [
       "<div>\n",
       "<style scoped>\n",
       "    .dataframe tbody tr th:only-of-type {\n",
       "        vertical-align: middle;\n",
       "    }\n",
       "\n",
       "    .dataframe tbody tr th {\n",
       "        vertical-align: top;\n",
       "    }\n",
       "\n",
       "    .dataframe thead th {\n",
       "        text-align: right;\n",
       "    }\n",
       "</style>\n",
       "<table border=\"1\" class=\"dataframe\">\n",
       "  <thead>\n",
       "    <tr style=\"text-align: right;\">\n",
       "      <th></th>\n",
       "      <th>yrs_code_exp</th>\n",
       "      <th>r</th>\n",
       "      <th>q27_2</th>\n",
       "      <th>q27_3</th>\n",
       "      <th>q27_6</th>\n",
       "      <th>q27_7</th>\n",
       "    </tr>\n",
       "  </thead>\n",
       "  <tbody>\n",
       "    <tr>\n",
       "      <th>2</th>\n",
       "      <td>10-20 years</td>\n",
       "      <td>No R</td>\n",
       "      <td>8.772904</td>\n",
       "      <td>15.047196</td>\n",
       "      <td>4.330927</td>\n",
       "      <td>8.162132</td>\n",
       "    </tr>\n",
       "    <tr>\n",
       "      <th>8</th>\n",
       "      <td>5-10 years</td>\n",
       "      <td>No R</td>\n",
       "      <td>8.059468</td>\n",
       "      <td>13.458529</td>\n",
       "      <td>4.029734</td>\n",
       "      <td>6.964006</td>\n",
       "    </tr>\n",
       "    <tr>\n",
       "      <th>4</th>\n",
       "      <td>20+ years</td>\n",
       "      <td>No R</td>\n",
       "      <td>6.310995</td>\n",
       "      <td>15.094340</td>\n",
       "      <td>4.619388</td>\n",
       "      <td>10.344828</td>\n",
       "    </tr>\n",
       "    <tr>\n",
       "      <th>6</th>\n",
       "      <td>3-5 years</td>\n",
       "      <td>No R</td>\n",
       "      <td>5.913504</td>\n",
       "      <td>7.002059</td>\n",
       "      <td>3.118564</td>\n",
       "      <td>5.531039</td>\n",
       "    </tr>\n",
       "    <tr>\n",
       "      <th>3</th>\n",
       "      <td>10-20 years</td>\n",
       "      <td>R</td>\n",
       "      <td>3.109384</td>\n",
       "      <td>4.719600</td>\n",
       "      <td>2.998334</td>\n",
       "      <td>2.054414</td>\n",
       "    </tr>\n",
       "    <tr>\n",
       "      <th>0</th>\n",
       "      <td>1-3 years</td>\n",
       "      <td>No R</td>\n",
       "      <td>3.003561</td>\n",
       "      <td>2.988079</td>\n",
       "      <td>2.554575</td>\n",
       "      <td>4.412448</td>\n",
       "    </tr>\n",
       "    <tr>\n",
       "      <th>5</th>\n",
       "      <td>20+ years</td>\n",
       "      <td>R</td>\n",
       "      <td>2.732596</td>\n",
       "      <td>6.245934</td>\n",
       "      <td>2.797658</td>\n",
       "      <td>3.253090</td>\n",
       "    </tr>\n",
       "    <tr>\n",
       "      <th>9</th>\n",
       "      <td>5-10 years</td>\n",
       "      <td>R</td>\n",
       "      <td>2.347418</td>\n",
       "      <td>3.912363</td>\n",
       "      <td>2.856025</td>\n",
       "      <td>1.799687</td>\n",
       "    </tr>\n",
       "    <tr>\n",
       "      <th>12</th>\n",
       "      <td>I have never written code</td>\n",
       "      <td>No R</td>\n",
       "      <td>1.718213</td>\n",
       "      <td>1.865488</td>\n",
       "      <td>1.325479</td>\n",
       "      <td>13.696613</td>\n",
       "    </tr>\n",
       "    <tr>\n",
       "      <th>7</th>\n",
       "      <td>3-5 years</td>\n",
       "      <td>R</td>\n",
       "      <td>1.353339</td>\n",
       "      <td>2.147690</td>\n",
       "      <td>1.853486</td>\n",
       "      <td>1.235658</td>\n",
       "    </tr>\n",
       "    <tr>\n",
       "      <th>10</th>\n",
       "      <td>&lt; 1 years</td>\n",
       "      <td>No R</td>\n",
       "      <td>1.063440</td>\n",
       "      <td>1.100110</td>\n",
       "      <td>1.466813</td>\n",
       "      <td>6.912358</td>\n",
       "    </tr>\n",
       "    <tr>\n",
       "      <th>1</th>\n",
       "      <td>1-3 years</td>\n",
       "      <td>R</td>\n",
       "      <td>0.634773</td>\n",
       "      <td>0.557362</td>\n",
       "      <td>0.696702</td>\n",
       "      <td>1.346958</td>\n",
       "    </tr>\n",
       "    <tr>\n",
       "      <th>11</th>\n",
       "      <td>&lt; 1 years</td>\n",
       "      <td>R</td>\n",
       "      <td>0.275028</td>\n",
       "      <td>0.220022</td>\n",
       "      <td>0.311698</td>\n",
       "      <td>1.741841</td>\n",
       "    </tr>\n",
       "  </tbody>\n",
       "</table>\n",
       "</div>"
      ],
      "text/plain": [
       "                 yrs_code_exp     r     q27_2      q27_3     q27_6      q27_7\n",
       "2                 10-20 years  No R  8.772904  15.047196  4.330927   8.162132\n",
       "8                  5-10 years  No R  8.059468  13.458529  4.029734   6.964006\n",
       "4                   20+ years  No R  6.310995  15.094340  4.619388  10.344828\n",
       "6                   3-5 years  No R  5.913504   7.002059  3.118564   5.531039\n",
       "3                 10-20 years     R  3.109384   4.719600  2.998334   2.054414\n",
       "0                   1-3 years  No R  3.003561   2.988079  2.554575   4.412448\n",
       "5                   20+ years     R  2.732596   6.245934  2.797658   3.253090\n",
       "9                  5-10 years     R  2.347418   3.912363  2.856025   1.799687\n",
       "12  I have never written code  No R  1.718213   1.865488  1.325479  13.696613\n",
       "7                   3-5 years     R  1.353339   2.147690  1.853486   1.235658\n",
       "10                  < 1 years  No R  1.063440   1.100110  1.466813   6.912358\n",
       "1                   1-3 years     R  0.634773   0.557362  0.696702   1.346958\n",
       "11                  < 1 years     R  0.275028   0.220022  0.311698   1.741841"
      ]
     },
     "execution_count": 31,
     "metadata": {},
     "output_type": "execute_result"
    }
   ],
   "source": [
    "groupDF = df_rpt.groupby(['yrs_code_exp','r']).sum()\n",
    "groupDF = groupDF.apply(lambda x: 100*x/popCodeExp).reset_index()\n",
    "\n",
    "pyexp_dict = {0: 'No R', 1: 'R'}\n",
    "groupDF['r'] = groupDF['r'].apply(lambda x: pyexp_dict.get(x))\n",
    "groupDF[['yrs_code_exp','r','q27_2','q27_3','q27_6','q27_7']].sort_values(by='q27_2', ascending=False)"
   ]
  },
  {
   "cell_type": "markdown",
   "metadata": {},
   "source": [
    "### 4.2 Coders with experience in popular ML framework  who deploy complex AI models at work"
   ]
  },
  {
   "cell_type": "code",
   "execution_count": 32,
   "metadata": {},
   "outputs": [],
   "source": [
    "COL= ['yrs_code_exp', 'ml_framework', 'q27_2', 'q27_3']\n",
    "TF = pd.DataFrame(columns = COL)"
   ]
  },
  {
   "cell_type": "code",
   "execution_count": 33,
   "metadata": {},
   "outputs": [],
   "source": [
    "ml_framework_select = ['tensorflow','pytorch','none']\n",
    "\n",
    "for s in ml_framework_select:\n",
    "    groupDF = df_rpt.groupby(['yrs_code_exp',s]).sum()\n",
    "    groupDF = groupDF.apply(lambda x: 100*x/popCodeExp).reset_index()\n",
    "    groupDF[s] = groupDF[s].apply(lambda x: s if x==1 else '')\n",
    "    groupDF.rename(columns={s: 'ml_framework'}, inplace=True)\n",
    "    TF = pd.concat([TF, groupDF[(groupDF['ml_framework']==s)][['yrs_code_exp','ml_framework','q27_2','q27_3']]])\n",
    "\n",
    "TF.sort_values(by='q27_2', ascending=False, inplace=True)"
   ]
  },
  {
   "cell_type": "code",
   "execution_count": 34,
   "metadata": {},
   "outputs": [
    {
     "data": {
      "image/png": "[encoded data removed]",
      "text/plain": [
       "<Figure size 628.375x288 with 1 Axes>"
      ]
     },
     "metadata": {
      "needs_background": "light"
     },
     "output_type": "display_data"
    }
   ],
   "source": [
    "TITLE = '% of users with Tensorflow, Pytorch or no experience who deployed machine learning model at work within past 2 years'\n",
    "\n",
    "show_factor_plot(TF.iloc[:,:-1], 'yrs_code_exp', 'q27_2', 'ml_framework','Years of coding Experience',\n",
    "                 '% of Users', TITLE)"
   ]
  },
  {
   "cell_type": "code",
   "execution_count": null,
   "metadata": {},
   "outputs": [],
   "source": []
  }
 ],
 "metadata": {
  "kernelspec": {
   "display_name": "Python 3 (ipykernel)",
   "language": "python",
   "name": "python3"
  },
  "language_info": {
   "codemirror_mode": {
    "name": "ipython",
    "version": 3
   },
   "file_extension": ".py",
   "mimetype": "text/x-python",
   "name": "python",
   "nbconvert_exporter": "python",
   "pygments_lexer": "ipython3",
   "version": "3.9.13"
  }
 },
 "nbformat": 4,
 "nbformat_minor": 4
}
